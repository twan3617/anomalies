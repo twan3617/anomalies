{
 "cells": [
  {
   "cell_type": "code",
   "execution_count": 1,
   "id": "bc0461bc",
   "metadata": {},
   "outputs": [],
   "source": [
    "import pandas as pd\n",
    "import numpy as np\n",
    "import matplotlib.pyplot as plt\n",
    "\n",
    "import mat4py # .mat file conversion\n",
    "\n",
    "from scipy.signal import welch, find_peaks, cwt # Signal Processing\n",
    "\n",
    "import stumpy # Matrix Profile\n",
    "from stumpy.floss import _cac # One sided cac\n",
    "\n",
    "import ot # Optimal Transport\n",
    "\n",
    "from vmdpy import VMD # Variational Mode Decomposition \n",
    "\n",
    "from ruptures.metrics import hausdorff # Quantifying Break Point Discrepancies\n",
    "\n",
    "# Utils\n",
    "import time\n",
    "import os\n",
    "loc = os.getcwd() \n",
    "\n",
    "# Matplotlib Params\n",
    "import matplotlib\n",
    "font = {'family' : 'DejaVu Sans',\n",
    "        'weight' : 'bold',\n",
    "        'size'   : 16}\n",
    "\n",
    "matplotlib.rc('font', **font)\n",
    "\n",
    "# os.chdir('/Users/wang_to/Documents/University/Anomaly_detection/anomalies/bookshelf/dataset')\n",
    "\n",
    "from matplotlib import animation\n",
    "from IPython.display import HTML\n"
   ]
  },
  {
   "cell_type": "code",
   "execution_count": 2,
   "id": "05b18916",
   "metadata": {},
   "outputs": [
    {
     "data": {
      "text/plain": [
       "<module 'stumpy' from '/opt/anaconda3/envs/anomaly-detection/lib/python3.9/site-packages/stumpy/__init__.py'>"
      ]
     },
     "execution_count": 2,
     "metadata": {},
     "output_type": "execute_result"
    }
   ],
   "source": [
    "stumpy"
   ]
  },
  {
   "cell_type": "code",
   "execution_count": 6,
   "id": "25ee2f5a",
   "metadata": {},
   "outputs": [
    {
     "data": {
      "text/plain": [
       "<module 'stumpy' from '/opt/anaconda3/envs/anomaly-detection/lib/python3.9/site-packages/stumpy/__init__.py'>"
      ]
     },
     "execution_count": 6,
     "metadata": {},
     "output_type": "execute_result"
    }
   ],
   "source": [
    "# # run this if module changes.\n",
    "import importlib\n",
    "importlib.reload(stumpy)\n",
    "# import stump_threshold"
   ]
  },
  {
   "cell_type": "code",
   "execution_count": 3,
   "id": "9fecd734",
   "metadata": {},
   "outputs": [
    {
     "name": "stdout",
     "output_type": "stream",
     "text": [
      "/Users/yeechin/Desktop/anomaly detection/initial stages/bookshelf/anomalies-tony/bookshelf/code/CAC-threshold\r\n"
     ]
    }
   ],
   "source": [
    "!pwd"
   ]
  },
  {
   "cell_type": "code",
   "execution_count": 4,
   "id": "b95a9ab5",
   "metadata": {},
   "outputs": [
    {
     "name": "stdout",
     "output_type": "stream",
     "text": [
      "\u001b[34m__pycache__\u001b[m\u001b[m                stump_threshold_CACs.ipynb\r\n",
      "stump_threshold.py\r\n"
     ]
    }
   ],
   "source": [
    "!ls"
   ]
  },
  {
   "cell_type": "code",
   "execution_count": 6,
   "id": "8aed42f2",
   "metadata": {},
   "outputs": [
    {
     "name": "stdout",
     "output_type": "stream",
     "text": [
      "Data processed for sensor 1.\n"
     ]
    }
   ],
   "source": [
    "\n",
    "# Extracting relevant values (based on keys)\n",
    "# data = mat4py.loadmat('Building_Model.mat')\n",
    "#yee\n",
    "data = mat4py.loadmat('/Users/yeechin/Desktop/anomaly detection/initial stages/bookshelf/Building_Model.mat')\n",
    "# data_dict = np.load('data_dict.npy', allow_pickle=True).item()\n",
    "\n",
    "nTests = data['nTests']\n",
    "nHealthy = data['nHealthyTests']\n",
    "nDamage = data['nDamagedTests']\n",
    "nSensors = data['nSensors']\n",
    "X = data['X']\n",
    "\n",
    "# Making informative columns names (for pandas data frame)\n",
    "info_cols = ['y_labels','damage_location','damage_level','voltage_level']\n",
    "X_cols_time = ['Xt_'+str(i) for i in range(len(X[0]))]\n",
    "cols = [X_cols_time + info_cols]\n",
    "\n",
    "# Data info\n",
    "signal_length = 8192   # Counts\n",
    "fs = 1600 # Hz\n",
    "total_time = 8192 / 1600 # 5.12 seconds\n",
    "num_sensors = 24 # Total number of sensors\n",
    "\n",
    "data_dict = {}\n",
    "i=1\n",
    "    \n",
    "# Extracting Data   \n",
    "X_time = X[nTests*(i-1):nTests*i]\n",
    "y = data['labels_binary'][nTests*(i-1):nTests*i]\n",
    "locations = [ L[0][0:3] for L in data['EventIDs'][nTests*(i-1):nTests*i] ]\n",
    "damage_levels = [ L[0][4:7] for L in data['EventIDs'][nTests*(i-1):nTests*i] ]\n",
    "shaker_voltage = [ L[0][8:11] for L in data['EventIDs'][nTests*(i-1):nTests*i] ]\n",
    "\n",
    "# Building Lists for Pandas\n",
    "sensor_data = []\n",
    "for j in range(len(X_time)):\n",
    "    sensor_data.append(X_time[j]+y[j]+[locations[j]]+[damage_levels[j]]+[shaker_voltage[j]]) \n",
    "\n",
    "# Constructing DataFrame\n",
    "sensor_time_df = pd.DataFrame(data=sensor_data, columns=cols)    \n",
    "data_dict['Sensor'+str(i)] = sensor_time_df\n",
    "\n",
    "print(f'Data processed for sensor {i}.')\n",
    "\n",
    "df_list = dict()\n",
    "# for sensor_num in range(1,num_sensors+1):\n",
    "sensor_num=1\n",
    "sensor_str = 'Sensor'+str(sensor_num)\n",
    "df = data_dict[sensor_str]\n"
   ]
  },
  {
   "cell_type": "code",
   "execution_count": 7,
   "id": "fd3b93e1",
   "metadata": {},
   "outputs": [],
   "source": [
    "cases = [['L00','D00','V08'], ['L1C','DB0','V08'],  ['L1C','DBB','V08'], ['L13','DBB','V08']]\n",
    "\n",
    "df_list_temp = []\n",
    "for num in cases:\n",
    "    query1 = (df['damage_location']==num[0]).values\n",
    "    query2 = (df['damage_level']==num[1]).values\n",
    "    query3 = (df['voltage_level']==num[2]).values\n",
    "\n",
    "    df_query = df[query1 & query2 & query3]\n",
    "    df_list_temp.append(df_query.reset_index(drop=True)) # Organize cases per sensor\n",
    "\n",
    "df_list[sensor_str] = pd.concat(df_list_temp) # Concatenate cases across each sensor\n",
    "\n",
    "# Removing 40 D00 (heahlthy i.e. non damage) cases \n",
    "# Because a lot of the damage case only have 5 events recorded in total\n",
    "# We shall have 10 D00 --> 5 DB0 --> 5 DBB --> 5 DBB cases in a sequence\n",
    "df_list[sensor_str] =  df_list[sensor_str].iloc[40:,:].reset_index(drop=True)\n"
   ]
  },
  {
   "cell_type": "code",
   "execution_count": 8,
   "id": "e59660c3",
   "metadata": {},
   "outputs": [],
   "source": [
    "############# WELCH ONLY SENSOR 1 ########################################################################\n",
    "sens1 = df_list['Sensor1']\n",
    "sens1_data = sens1.iloc[:,:-4]\n",
    "\n",
    "num_experiments = 25 \n",
    "# Parameter for p-welch transform\n",
    "nperseg = df_list['Sensor1'].shape[1]//8\n",
    "\n",
    "# Total length of signal recording\n",
    "signal_length = 8192 # len(X_cols_time)\n",
    "\n",
    "\n",
    "building_features = dict()\n",
    "welch_list = []\n",
    "\n",
    "for i in range(num_experiments):\n",
    "    experiment_str = f'Experiment{i+1}'\n",
    "    data_row = sens1_data.iloc[i,:]\n",
    "    data_row_demeaned = data_row - np.mean(data_row) # Remove \"DC\" component (i.e. de-mean)\n",
    "    \n",
    "    pxx = welch(data_row_demeaned, fs=1600, nperseg=nperseg) # Returns len 2 tuple\n",
    "    welch_list.append(np.log(pxx[1]/max(pxx[1]))) # Feature Engineering\n",
    "    \n",
    "    building_features[experiment_str] = np.array(welch_list)\n",
    "\n",
    "    welch_list.clear()\n"
   ]
  },
  {
   "cell_type": "code",
   "execution_count": 9,
   "id": "793d5a33",
   "metadata": {},
   "outputs": [],
   "source": [
    "building_seq = np.hstack([building_features[f'Experiment{i+1}'] for i in range(num_experiments)]).squeeze()"
   ]
  },
  {
   "cell_type": "code",
   "execution_count": 3,
   "id": "aef38f7c",
   "metadata": {},
   "outputs": [],
   "source": [
    "# import pickle\n",
    "# # with open('building_seq.pkl','wb') as f:\n",
    "# #      pickle.dump(building_seq, f)\n",
    "\n",
    "# with open('building_seq.pkl','wb') as f:\n",
    "#      building_seq = pickle.load(f)\n",
    "\n",
    "# np.save('building_seq.npy', building_seq) \n",
    "building_seq = np.load('building_seq.npy')"
   ]
  },
  {
   "cell_type": "code",
   "execution_count": 4,
   "id": "4b1d5e01",
   "metadata": {},
   "outputs": [
    {
     "data": {
      "text/plain": [
       "[<matplotlib.lines.Line2D at 0x1047340a0>]"
      ]
     },
     "execution_count": 4,
     "metadata": {},
     "output_type": "execute_result"
    },
    {
     "data": {
      "image/png": "[encoded data removed]",
      "text/plain": [
       "<Figure size 432x288 with 1 Axes>"
      ]
     },
     "metadata": {
      "needs_background": "light"
     },
     "output_type": "display_data"
    }
   ],
   "source": [
    "m=100\n",
    "L=m\n",
    "old_data = building_seq[:513*5]\n",
    "mp = stumpy.stump(old_data, m=m)\n",
    "cac_1d = _cac(mp[:, 3], L, bidirectional=False, excl_factor=1)  # This is for demo purposes only. Use floss() below!\n",
    "plt.plot(cac_1d)"
   ]
  },
  {
   "cell_type": "code",
   "execution_count": 12,
   "id": "c85e49eb",
   "metadata": {},
   "outputs": [
    {
     "data": {
      "text/plain": [
       "Text(0.5, 1.0, 'Distance Profile')"
      ]
     },
     "execution_count": 12,
     "metadata": {},
     "output_type": "execute_result"
    },
    {
     "data": {
      "image/png": "[encoded data removed]",
      "text/plain": [
       "<Figure size 432x288 with 1 Axes>"
      ]
     },
     "metadata": {
      "needs_background": "light"
     },
     "output_type": "display_data"
    }
   ],
   "source": [
    "plt.plot(mp[:,0])\n",
    "plt.title('Distance Profile')"
   ]
  },
  {
   "cell_type": "code",
   "execution_count": 5,
   "id": "305ef8c9",
   "metadata": {},
   "outputs": [
    {
     "ename": "AttributeError",
     "evalue": "module 'stumpy' has no attribute 'stump_threshold'",
     "output_type": "error",
     "traceback": [
      "\u001b[0;31m---------------------------------------------------------------------------\u001b[0m",
      "\u001b[0;31mAttributeError\u001b[0m                            Traceback (most recent call last)",
      "\u001b[0;32m/var/folders/c2/62y8921j545c7txjhk47n5cr0000gn/T/ipykernel_12517/3222591636.py\u001b[0m in \u001b[0;36m<module>\u001b[0;34m\u001b[0m\n\u001b[0;32m----> 1\u001b[0;31m \u001b[0mmp\u001b[0m \u001b[0;34m=\u001b[0m \u001b[0mstumpy\u001b[0m\u001b[0;34m.\u001b[0m\u001b[0mstump_threshold\u001b[0m\u001b[0;34m(\u001b[0m\u001b[0mold_data\u001b[0m\u001b[0;34m,\u001b[0m \u001b[0mm\u001b[0m\u001b[0;34m=\u001b[0m\u001b[0mm\u001b[0m\u001b[0;34m,\u001b[0m\u001b[0;34m)\u001b[0m\u001b[0;34m\u001b[0m\u001b[0;34m\u001b[0m\u001b[0m\n\u001b[0m\u001b[1;32m      2\u001b[0m \u001b[0mcac_1d\u001b[0m \u001b[0;34m=\u001b[0m \u001b[0m_cac\u001b[0m\u001b[0;34m(\u001b[0m\u001b[0mmp\u001b[0m\u001b[0;34m[\u001b[0m\u001b[0;34m:\u001b[0m\u001b[0;34m,\u001b[0m \u001b[0;36m3\u001b[0m\u001b[0;34m]\u001b[0m\u001b[0;34m,\u001b[0m \u001b[0mL\u001b[0m\u001b[0;34m,\u001b[0m \u001b[0mbidirectional\u001b[0m\u001b[0;34m=\u001b[0m\u001b[0;32mFalse\u001b[0m\u001b[0;34m,\u001b[0m \u001b[0mexcl_factor\u001b[0m\u001b[0;34m=\u001b[0m\u001b[0;36m1\u001b[0m\u001b[0;34m)\u001b[0m  \u001b[0;31m# This is for demo purposes only. Use floss() below!\u001b[0m\u001b[0;34m\u001b[0m\u001b[0;34m\u001b[0m\u001b[0m\n\u001b[1;32m      3\u001b[0m \u001b[0mplt\u001b[0m\u001b[0;34m.\u001b[0m\u001b[0mplot\u001b[0m\u001b[0;34m(\u001b[0m\u001b[0mcac_1d\u001b[0m\u001b[0;34m)\u001b[0m\u001b[0;34m\u001b[0m\u001b[0;34m\u001b[0m\u001b[0m\n",
      "\u001b[0;31mAttributeError\u001b[0m: module 'stumpy' has no attribute 'stump_threshold'"
     ]
    }
   ],
   "source": [
    "mp = stumpy.stump_threshold(old_data, m=m,)\n",
    "cac_1d = _cac(mp[:, 3], L, bidirectional=False, excl_factor=1)  # This is for demo purposes only. Use floss() below!\n",
    "plt.plot(cac_1d)"
   ]
  },
  {
   "cell_type": "code",
   "execution_count": null,
   "id": "ad3d23a4",
   "metadata": {},
   "outputs": [],
   "source": []
  }
 ],
 "metadata": {
  "kernelspec": {
   "display_name": "Python 3 (ipykernel)",
   "language": "python",
   "name": "python3"
  },
  "language_info": {
   "codemirror_mode": {
    "name": "ipython",
    "version": 3
   },
   "file_extension": ".py",
   "mimetype": "text/x-python",
   "name": "python",
   "nbconvert_exporter": "python",
   "pygments_lexer": "ipython3",
   "version": "3.9.7"
  }
 },
 "nbformat": 4,
 "nbformat_minor": 5
}
