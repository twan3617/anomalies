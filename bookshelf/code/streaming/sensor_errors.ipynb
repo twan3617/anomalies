{
 "cells": [
  {
   "cell_type": "code",
   "execution_count": 31,
   "metadata": {},
   "outputs": [],
   "source": [
    "import pandas as pd\n",
    "import numpy as np\n",
    "import matplotlib.pyplot as plt\n",
    "\n",
    "import mat4py # .mat file conversion\n",
    "\n",
    "from scipy.signal import welch, find_peaks, cwt # Signal Processing\n",
    "\n",
    "import stumpy # Matrix Profile\n",
    "from stumpy.floss import _cac # One sided cac\n",
    "\n",
    "import ot # Optimal Transport\n",
    "\n",
    "from vmdpy import VMD # Variational Mode Decomposition \n",
    "\n",
    "from ruptures.metrics import hausdorff # Quantifying Break Point Discrepancies\n",
    "\n",
    "# Utils\n",
    "import time\n",
    "import os\n",
    "loc = os.getcwd() \n",
    "\n",
    "# Matplotlib Params\n",
    "import matplotlib\n",
    "font = {'family' : 'DejaVu Sans',\n",
    "        'weight' : 'bold',\n",
    "        'size'   : 16}\n",
    "\n",
    "matplotlib.rc('font', **font)\n",
    "\n",
    "# os.chdir('/Users/wang_to/Documents/University/Anomaly_detection/anomalies/bookshelf/dataset')\n",
    "\n",
    "from matplotlib import animation\n",
    "from IPython.display import HTML\n",
    "\n",
    "\n",
    "os.chdir('/Users/wang_to/Documents/University/Anomaly_detection/anomalies/bookshelf/dataset')\n"
   ]
  },
  {
   "cell_type": "code",
   "execution_count": 108,
   "metadata": {},
   "outputs": [
    {
     "data": {
      "text/plain": [
       "<module 'scripts' from '/Users/wang_to/Documents/University/Anomaly_detection/anomalies/bookshelf/code/streaming/scripts.py'>"
      ]
     },
     "execution_count": 108,
     "metadata": {},
     "output_type": "execute_result"
    }
   ],
   "source": [
    "import importlib\n",
    "importlib.reload(scripts)"
   ]
  },
  {
   "cell_type": "markdown",
   "metadata": {},
   "source": [
    "# Current Notebook/Pipeline Structure\n",
    "1.1 - Zero out data from data_dict \n",
    "\n",
    "1.2 - Replace with normal data.\n",
    "Branches \n",
    "1. No vmd, only welch, sensor 1. use vmd = 0 in computing building_features and building_features_seq, then animate.\n",
    "2. Yes vmd[0], sensor 1. Use vmd = num_modes to compute building_features and building_features_seq. Animate.\n",
    "3. Yes vmd, sensor 1, cac all together\n",
    "4. Yes vmd, all sensors, cac all sensors together (still to be done)\n",
    "\n"
   ]
  },
  {
   "cell_type": "markdown",
   "metadata": {},
   "source": [
    "# Generic Preprocessing Steps (1.1)"
   ]
  },
  {
   "cell_type": "code",
   "execution_count": null,
   "metadata": {},
   "outputs": [],
   "source": [
    "data_dict = np.load('data_dict.npy', allow_pickle=True).item()\n",
    "cases = [['L00','D00','V08'], ['L1C','DB0','V08'],  ['L1C','DBB','V08'], ['L13','DBB','V08']]\n",
    "\n",
    "# for the first 8 sensors, erase some number of points between 100 and 500.\n",
    "# for other experiments, see what happens if zeroing out is replaced by random normals\n",
    "num_sensors = 8\n",
    "bounds = (100, 500)\n",
    "for i in range(num_sensors):\n",
    "    sensor_str = f'Sensor{i+1}'\n",
    "    scripts.zero_out(data_dict[sensor_str], bounds, 8192, 270, zero=True, rand=True)\n",
    "\n",
    "df_list = scripts.exp_list_process(data_dict, cases, 10)"
   ]
  },
  {
   "cell_type": "code",
   "execution_count": 111,
   "metadata": {},
   "outputs": [],
   "source": [
    "# parameters \n",
    "\n",
    "alpha = 2000      # Moderate bandwidth constraint  \n",
    "tau = 0.          # Noise-tolerance (no strict fidelity enforcement)  \n",
    "num_modes = 5     # Num modes  \n",
    "DC = 0            # No DC part imposed  \n",
    "init = 0          # Initialize omegas uniformly  \n",
    "tol = 1e-7        # Optimization Convergence Tolerance\n",
    "fs = 1600\n",
    "# Parameter for p-welch transform\n",
    "nperseg = df_list['Sensor1'].shape[1]//8\n",
    "\n",
    "num_experiments = 25 \n",
    "\n",
    "# Total length of signal recording\n",
    "signal_length = 8192 # len(X_cols_time)\n"
   ]
  },
  {
   "cell_type": "markdown",
   "metadata": {},
   "source": [
    "# Computing FLOSS algorithm for non-VMD (only welch) (1.1)"
   ]
  },
  {
   "cell_type": "code",
   "execution_count": 100,
   "metadata": {},
   "outputs": [],
   "source": [
    "building_features = scripts.welch_vmd(df_list['Sensor1'])"
   ]
  },
  {
   "cell_type": "code",
   "execution_count": 109,
   "metadata": {},
   "outputs": [],
   "source": [
    "building_features_seq = scripts.data_sequencing(building_features, vmd=0)"
   ]
  },
  {
   "cell_type": "markdown",
   "metadata": {},
   "source": [
    "## Compute FLOSS and Animate"
   ]
  },
  {
   "cell_type": "markdown",
   "metadata": {},
   "source": [
    "# Computing CAC FLOSS algorithm for VMD and VMD CAC (1.1), Sensor 1"
   ]
  },
  {
   "cell_type": "code",
   "execution_count": 74,
   "metadata": {},
   "outputs": [
    {
     "ename": "TypeError",
     "evalue": "'numpy.ndarray' object is not callable",
     "output_type": "error",
     "traceback": [
      "\u001b[0;31m---------------------------------------------------------------------------\u001b[0m",
      "\u001b[0;31mTypeError\u001b[0m                                 Traceback (most recent call last)",
      "\u001b[0;32m/var/folders/s3/4_v45d_95z50nf91d00rdv9c0000gn/T/ipykernel_32055/2381741177.py\u001b[0m in \u001b[0;36m<module>\u001b[0;34m\u001b[0m\n\u001b[0;32m----> 1\u001b[0;31m \u001b[0mscripts\u001b[0m\u001b[0;34m.\u001b[0m\u001b[0mwelch_vmd\u001b[0m\u001b[0;34m(\u001b[0m\u001b[0mdf_list\u001b[0m\u001b[0;34m[\u001b[0m\u001b[0;34m'Sensor1'\u001b[0m\u001b[0;34m]\u001b[0m\u001b[0;34m)\u001b[0m\u001b[0;34m\u001b[0m\u001b[0;34m\u001b[0m\u001b[0m\n\u001b[0m",
      "\u001b[0;32m~/Documents/University/Anomaly_detection/anomalies/bookshelf/code/streaming/scripts.py\u001b[0m in \u001b[0;36mwelch_vmd\u001b[0;34m(df_list, signal_length, nperseg, fs, vmd, alpha, tau, DC, init, tol)\u001b[0m\n\u001b[1;32m     55\u001b[0m     \u001b[0mThis\u001b[0m \u001b[0mgives\u001b[0m \u001b[0mus\u001b[0m \u001b[0mflexibility\u001b[0m \u001b[0;32min\u001b[0m \u001b[0mcase\u001b[0m \u001b[0mwe\u001b[0m \u001b[0mwant\u001b[0m \u001b[0mto\u001b[0m \u001b[0mexperiment\u001b[0m \u001b[0;32mwith\u001b[0m \u001b[0mdifferent\u001b[0m \u001b[0mcombinations\u001b[0m \u001b[0mof\u001b[0m \u001b[0mnormal\u001b[0m\u001b[0;34m/\u001b[0m\u001b[0manomalous\u001b[0m \u001b[0mdata\u001b[0m \u001b[0metc\u001b[0m\u001b[0;34m.\u001b[0m\u001b[0;34m\u001b[0m\u001b[0;34m\u001b[0m\u001b[0m\n\u001b[1;32m     56\u001b[0m     '''  \n\u001b[0;32m---> 57\u001b[0;31m     \u001b[0mfirst_item\u001b[0m \u001b[0;34m=\u001b[0m \u001b[0mnext\u001b[0m\u001b[0;34m(\u001b[0m\u001b[0miter\u001b[0m\u001b[0;34m(\u001b[0m\u001b[0mdf_list\u001b[0m\u001b[0;34m.\u001b[0m\u001b[0mvalues\u001b[0m\u001b[0;34m(\u001b[0m\u001b[0;34m)\u001b[0m\u001b[0;34m)\u001b[0m\u001b[0;34m)\u001b[0m\u001b[0;34m\u001b[0m\u001b[0;34m\u001b[0m\u001b[0m\n\u001b[0m\u001b[1;32m     58\u001b[0m     \u001b[0mnum_experiments\u001b[0m \u001b[0;34m=\u001b[0m \u001b[0mlen\u001b[0m\u001b[0;34m(\u001b[0m\u001b[0mfirst_item\u001b[0m\u001b[0;34m)\u001b[0m\u001b[0;34m\u001b[0m\u001b[0;34m\u001b[0m\u001b[0m\n\u001b[1;32m     59\u001b[0m \u001b[0;34m\u001b[0m\u001b[0m\n",
      "\u001b[0;31mTypeError\u001b[0m: 'numpy.ndarray' object is not callable"
     ]
    }
   ],
   "source": [
    "scripts.welch_vmd(df_list['Sensor1'])"
   ]
  },
  {
   "cell_type": "code",
   "execution_count": 67,
   "metadata": {},
   "outputs": [
    {
     "name": "stdout",
     "output_type": "stream",
     "text": [
      "Processing Sensor 1\n",
      "\tProcessed VMD for Experiment Num (i.e. Data Row) 0\n",
      "\tProcessed VMD for Experiment Num (i.e. Data Row) 5\n",
      "\tProcessed VMD for Experiment Num (i.e. Data Row) 10\n",
      "\tProcessed VMD for Experiment Num (i.e. Data Row) 15\n",
      "\tProcessed VMD for Experiment Num (i.e. Data Row) 20\n",
      "Processing Sensor 2\n",
      "\tProcessed VMD for Experiment Num (i.e. Data Row) 0\n",
      "\tProcessed VMD for Experiment Num (i.e. Data Row) 5\n",
      "\tProcessed VMD for Experiment Num (i.e. Data Row) 10\n",
      "\tProcessed VMD for Experiment Num (i.e. Data Row) 15\n",
      "\tProcessed VMD for Experiment Num (i.e. Data Row) 20\n",
      "Processing Sensor 3\n",
      "\tProcessed VMD for Experiment Num (i.e. Data Row) 0\n",
      "\tProcessed VMD for Experiment Num (i.e. Data Row) 5\n",
      "\tProcessed VMD for Experiment Num (i.e. Data Row) 10\n",
      "\tProcessed VMD for Experiment Num (i.e. Data Row) 15\n",
      "\tProcessed VMD for Experiment Num (i.e. Data Row) 20\n",
      "Processing Sensor 4\n",
      "\tProcessed VMD for Experiment Num (i.e. Data Row) 0\n",
      "\tProcessed VMD for Experiment Num (i.e. Data Row) 5\n",
      "\tProcessed VMD for Experiment Num (i.e. Data Row) 10\n",
      "\tProcessed VMD for Experiment Num (i.e. Data Row) 15\n",
      "\tProcessed VMD for Experiment Num (i.e. Data Row) 20\n",
      "Processing Sensor 5\n",
      "\tProcessed VMD for Experiment Num (i.e. Data Row) 0\n",
      "\tProcessed VMD for Experiment Num (i.e. Data Row) 5\n",
      "\tProcessed VMD for Experiment Num (i.e. Data Row) 10\n",
      "\tProcessed VMD for Experiment Num (i.e. Data Row) 15\n",
      "\tProcessed VMD for Experiment Num (i.e. Data Row) 20\n",
      "Processing Sensor 6\n",
      "\tProcessed VMD for Experiment Num (i.e. Data Row) 0\n",
      "\tProcessed VMD for Experiment Num (i.e. Data Row) 5\n",
      "\tProcessed VMD for Experiment Num (i.e. Data Row) 10\n",
      "\tProcessed VMD for Experiment Num (i.e. Data Row) 15\n",
      "\tProcessed VMD for Experiment Num (i.e. Data Row) 20\n",
      "Processing Sensor 7\n",
      "\tProcessed VMD for Experiment Num (i.e. Data Row) 0\n",
      "\tProcessed VMD for Experiment Num (i.e. Data Row) 5\n",
      "\tProcessed VMD for Experiment Num (i.e. Data Row) 10\n",
      "\tProcessed VMD for Experiment Num (i.e. Data Row) 15\n",
      "\tProcessed VMD for Experiment Num (i.e. Data Row) 20\n",
      "Processing Sensor 8\n",
      "\tProcessed VMD for Experiment Num (i.e. Data Row) 0\n",
      "\tProcessed VMD for Experiment Num (i.e. Data Row) 5\n",
      "\tProcessed VMD for Experiment Num (i.e. Data Row) 10\n",
      "\tProcessed VMD for Experiment Num (i.e. Data Row) 15\n",
      "\tProcessed VMD for Experiment Num (i.e. Data Row) 20\n",
      "Processing Sensor 9\n",
      "\tProcessed VMD for Experiment Num (i.e. Data Row) 0\n",
      "\tProcessed VMD for Experiment Num (i.e. Data Row) 5\n",
      "\tProcessed VMD for Experiment Num (i.e. Data Row) 10\n",
      "\tProcessed VMD for Experiment Num (i.e. Data Row) 15\n",
      "\tProcessed VMD for Experiment Num (i.e. Data Row) 20\n",
      "Processing Sensor 10\n",
      "\tProcessed VMD for Experiment Num (i.e. Data Row) 0\n",
      "\tProcessed VMD for Experiment Num (i.e. Data Row) 5\n",
      "\tProcessed VMD for Experiment Num (i.e. Data Row) 10\n",
      "\tProcessed VMD for Experiment Num (i.e. Data Row) 15\n",
      "\tProcessed VMD for Experiment Num (i.e. Data Row) 20\n",
      "Processing Sensor 11\n",
      "\tProcessed VMD for Experiment Num (i.e. Data Row) 0\n",
      "\tProcessed VMD for Experiment Num (i.e. Data Row) 5\n",
      "\tProcessed VMD for Experiment Num (i.e. Data Row) 10\n",
      "\tProcessed VMD for Experiment Num (i.e. Data Row) 15\n",
      "\tProcessed VMD for Experiment Num (i.e. Data Row) 20\n",
      "Processing Sensor 12\n",
      "\tProcessed VMD for Experiment Num (i.e. Data Row) 0\n",
      "\tProcessed VMD for Experiment Num (i.e. Data Row) 5\n",
      "\tProcessed VMD for Experiment Num (i.e. Data Row) 10\n",
      "\tProcessed VMD for Experiment Num (i.e. Data Row) 15\n",
      "\tProcessed VMD for Experiment Num (i.e. Data Row) 20\n",
      "Processing Sensor 13\n",
      "\tProcessed VMD for Experiment Num (i.e. Data Row) 0\n",
      "\tProcessed VMD for Experiment Num (i.e. Data Row) 5\n",
      "\tProcessed VMD for Experiment Num (i.e. Data Row) 10\n",
      "\tProcessed VMD for Experiment Num (i.e. Data Row) 15\n",
      "\tProcessed VMD for Experiment Num (i.e. Data Row) 20\n",
      "Processing Sensor 14\n",
      "\tProcessed VMD for Experiment Num (i.e. Data Row) 0\n",
      "\tProcessed VMD for Experiment Num (i.e. Data Row) 5\n",
      "\tProcessed VMD for Experiment Num (i.e. Data Row) 10\n",
      "\tProcessed VMD for Experiment Num (i.e. Data Row) 15\n",
      "\tProcessed VMD for Experiment Num (i.e. Data Row) 20\n",
      "Processing Sensor 15\n",
      "\tProcessed VMD for Experiment Num (i.e. Data Row) 0\n",
      "\tProcessed VMD for Experiment Num (i.e. Data Row) 5\n",
      "\tProcessed VMD for Experiment Num (i.e. Data Row) 10\n",
      "\tProcessed VMD for Experiment Num (i.e. Data Row) 15\n",
      "\tProcessed VMD for Experiment Num (i.e. Data Row) 20\n",
      "Processing Sensor 16\n",
      "\tProcessed VMD for Experiment Num (i.e. Data Row) 0\n",
      "\tProcessed VMD for Experiment Num (i.e. Data Row) 5\n",
      "\tProcessed VMD for Experiment Num (i.e. Data Row) 10\n",
      "\tProcessed VMD for Experiment Num (i.e. Data Row) 15\n",
      "\tProcessed VMD for Experiment Num (i.e. Data Row) 20\n",
      "Processing Sensor 17\n",
      "\tProcessed VMD for Experiment Num (i.e. Data Row) 0\n",
      "\tProcessed VMD for Experiment Num (i.e. Data Row) 5\n",
      "\tProcessed VMD for Experiment Num (i.e. Data Row) 10\n",
      "\tProcessed VMD for Experiment Num (i.e. Data Row) 15\n",
      "\tProcessed VMD for Experiment Num (i.e. Data Row) 20\n",
      "Processing Sensor 18\n",
      "\tProcessed VMD for Experiment Num (i.e. Data Row) 0\n",
      "\tProcessed VMD for Experiment Num (i.e. Data Row) 5\n",
      "\tProcessed VMD for Experiment Num (i.e. Data Row) 10\n",
      "\tProcessed VMD for Experiment Num (i.e. Data Row) 15\n",
      "\tProcessed VMD for Experiment Num (i.e. Data Row) 20\n",
      "Processing Sensor 19\n",
      "\tProcessed VMD for Experiment Num (i.e. Data Row) 0\n",
      "\tProcessed VMD for Experiment Num (i.e. Data Row) 5\n",
      "\tProcessed VMD for Experiment Num (i.e. Data Row) 10\n",
      "\tProcessed VMD for Experiment Num (i.e. Data Row) 15\n",
      "\tProcessed VMD for Experiment Num (i.e. Data Row) 20\n",
      "Processing Sensor 20\n",
      "\tProcessed VMD for Experiment Num (i.e. Data Row) 0\n",
      "\tProcessed VMD for Experiment Num (i.e. Data Row) 5\n",
      "\tProcessed VMD for Experiment Num (i.e. Data Row) 10\n",
      "\tProcessed VMD for Experiment Num (i.e. Data Row) 15\n",
      "\tProcessed VMD for Experiment Num (i.e. Data Row) 20\n",
      "Processing Sensor 21\n",
      "\tProcessed VMD for Experiment Num (i.e. Data Row) 0\n",
      "\tProcessed VMD for Experiment Num (i.e. Data Row) 5\n",
      "\tProcessed VMD for Experiment Num (i.e. Data Row) 10\n",
      "\tProcessed VMD for Experiment Num (i.e. Data Row) 15\n",
      "\tProcessed VMD for Experiment Num (i.e. Data Row) 20\n",
      "Processing Sensor 22\n",
      "\tProcessed VMD for Experiment Num (i.e. Data Row) 0\n",
      "\tProcessed VMD for Experiment Num (i.e. Data Row) 5\n",
      "\tProcessed VMD for Experiment Num (i.e. Data Row) 10\n",
      "\tProcessed VMD for Experiment Num (i.e. Data Row) 15\n",
      "\tProcessed VMD for Experiment Num (i.e. Data Row) 20\n",
      "Processing Sensor 23\n",
      "\tProcessed VMD for Experiment Num (i.e. Data Row) 0\n",
      "\tProcessed VMD for Experiment Num (i.e. Data Row) 5\n",
      "\tProcessed VMD for Experiment Num (i.e. Data Row) 10\n",
      "\tProcessed VMD for Experiment Num (i.e. Data Row) 15\n",
      "\tProcessed VMD for Experiment Num (i.e. Data Row) 20\n",
      "Processing Sensor 24\n",
      "\tProcessed VMD for Experiment Num (i.e. Data Row) 0\n",
      "\tProcessed VMD for Experiment Num (i.e. Data Row) 5\n",
      "\tProcessed VMD for Experiment Num (i.e. Data Row) 10\n",
      "\tProcessed VMD for Experiment Num (i.e. Data Row) 15\n",
      "\tProcessed VMD for Experiment Num (i.e. Data Row) 20\n"
     ]
    }
   ],
   "source": [
    "building_features = scripts.welch_vmd(df_list, 8192, nperseg, fs, 5, alpha, tau, DC, init, tol)\n",
    "# use these building features for all other cac experiments"
   ]
  },
  {
   "cell_type": "markdown",
   "metadata": {},
   "source": [
    "## VMD[0] CACs Sensor 1"
   ]
  },
  {
   "cell_type": "code",
   "execution_count": null,
   "metadata": {},
   "outputs": [],
   "source": []
  },
  {
   "cell_type": "markdown",
   "metadata": {},
   "source": [
    "## VMD[all] CACs Sensor 1"
   ]
  },
  {
   "cell_type": "code",
   "execution_count": null,
   "metadata": {},
   "outputs": [],
   "source": []
  },
  {
   "cell_type": "markdown",
   "metadata": {},
   "source": [
    "## VMD[all] CACs ALL SENSORS"
   ]
  }
 ],
 "metadata": {
  "interpreter": {
   "hash": "1ca9cba2bd0fd8af955a9d1453792a4cdaf06581b11717e5924d48dc92a46b40"
  },
  "kernelspec": {
   "display_name": "Python 3.7.12 64-bit ('end2end': conda)",
   "language": "python",
   "name": "python3"
  },
  "language_info": {
   "codemirror_mode": {
    "name": "ipython",
    "version": 3
   },
   "file_extension": ".py",
   "mimetype": "text/x-python",
   "name": "python",
   "nbconvert_exporter": "python",
   "pygments_lexer": "ipython3",
   "version": "3.7.12"
  },
  "orig_nbformat": 4
 },
 "nbformat": 4,
 "nbformat_minor": 2
}
