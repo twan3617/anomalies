{
 "cells": [
  {
   "cell_type": "markdown",
   "metadata": {},
   "source": [
    "# Getting Streaming Working \n",
    "\n",
    "1. Sensor 1, 25 experiments\n",
    "2. Welch, log normalise all 25 individual time series\n",
    "3. Concatenate 5 together as \"initial\" time series\n",
    "4. stream.update in blocks of 513 \n",
    "5. (experiment with window size)\n",
    "6. Visualise the cac curves afterwards (hopefully not just 1s?)"
   ]
  },
  {
   "cell_type": "markdown",
   "metadata": {},
   "source": [
    "# Structure of this notebook\n",
    "\n",
    "By heading:\n",
    "\n",
    "- packages\n",
    "- data import (change around depending on what you have saved as .npy etc. )\n",
    "- sensor1 data 25 experiments: welch transform followed by floss animation (require df_list and sens1_data)\n",
    "- sensor1 data 25 experiments: vmd mode 1, welch transformation, then floss animation (require df_list and sens1_data)\n",
    "- sensor1 data 25 experiments: vmd, welch transformation, then layer 1 pooling over all 5 vmd modes floss animation (require df_list and sens1_data)\n",
    "- random stuff not important that we might want to keep. just dump potential code you'll want later here\n"
   ]
  },
  {
   "cell_type": "markdown",
   "metadata": {},
   "source": [
    "# Packages"
   ]
  },
  {
   "cell_type": "code",
   "execution_count": 1,
   "metadata": {},
   "outputs": [],
   "source": [
    "import pandas as pd\n",
    "import numpy as np\n",
    "import matplotlib.pyplot as plt\n",
    "\n",
    "import mat4py # .mat file conversion\n",
    "\n",
    "from scipy.signal import welch, find_peaks, cwt # Signal Processing\n",
    "\n",
    "import stumpy # Matrix Profile\n",
    "from stumpy.floss import _cac # One sided cac\n",
    "\n",
    "import ot # Optimal Transport\n",
    "\n",
    "from vmdpy import VMD # Variational Mode Decomposition \n",
    "\n",
    "from ruptures.metrics import hausdorff # Quantifying Break Point Discrepancies\n",
    "\n",
    "# Utils\n",
    "import time\n",
    "import os\n",
    "loc = os.getcwd() \n",
    "\n",
    "# Matplotlib Params\n",
    "import matplotlib\n",
    "font = {'family' : 'DejaVu Sans',\n",
    "        'weight' : 'bold',\n",
    "        'size'   : 16}\n",
    "\n",
    "matplotlib.rc('font', **font)\n",
    "\n",
    "# os.chdir('/Users/wang_to/Documents/University/Anomaly_detection/anomalies/bookshelf/dataset')\n",
    "\n",
    "from matplotlib import animation\n",
    "from IPython.display import HTML\n"
   ]
  },
  {
   "cell_type": "code",
   "execution_count": 2,
   "metadata": {},
   "outputs": [],
   "source": [
    "# run this if scripts changes.\n",
    "# import importlib\n",
    "# importlib.reload(scripts)\n",
    "import scripts"
   ]
  },
  {
   "cell_type": "code",
   "execution_count": null,
   "metadata": {},
   "outputs": [],
   "source": [
    "scripts"
   ]
  },
  {
   "cell_type": "markdown",
   "metadata": {},
   "source": [
    "# Data Import \n",
    "### creating sensor 1 data structure only"
   ]
  },
  {
   "cell_type": "code",
   "execution_count": null,
   "metadata": {},
   "outputs": [],
   "source": [
    "# cases = [['L00','D00','V08'], ['L1C','DB0','V08'],  ['L1C','DBB','V08'], ['L13','DBB','V08']]\n",
    "\n",
    "# Extracting relevant values (based on keys)\n",
    "# data = mat4py.loadmat('Building_Model.mat')\n",
    "#yee\n",
    "data = mat4py.loadmat('/Users/yeechin/Desktop/anomaly detection/initial stages/bookshelf/Building_Model.mat')\n",
    "# data_dict = np.load('data_dict.npy', allow_pickle=True).item()\n",
    "\n",
    "nTests = data['nTests']\n",
    "nHealthy = data['nHealthyTests']\n",
    "nDamage = data['nDamagedTests']\n",
    "nSensors = data['nSensors']\n",
    "X = data['X']\n",
    "\n",
    "# Making informative columns names (for pandas data frame)\n",
    "info_cols = ['y_labels','damage_location','damage_level','voltage_level']\n",
    "X_cols_time = ['Xt_'+str(i) for i in range(len(X[0]))]\n",
    "cols = [X_cols_time + info_cols]\n",
    "\n",
    "# Data info\n",
    "signal_length = 8192   # Counts\n",
    "fs = 1600 # Hz\n",
    "total_time = 8192 / 1600 # 5.12 seconds\n",
    "num_sensors = 24 # Total number of sensors\n",
    "\n",
    "data_dict = {}\n",
    "i=1\n",
    "    \n",
    "# Extracting Data   \n",
    "X_time = X[nTests*(i-1):nTests*i]\n",
    "y = data['labels_binary'][nTests*(i-1):nTests*i]\n",
    "locations = [ L[0][0:3] for L in data['EventIDs'][nTests*(i-1):nTests*i] ]\n",
    "damage_levels = [ L[0][4:7] for L in data['EventIDs'][nTests*(i-1):nTests*i] ]\n",
    "shaker_voltage = [ L[0][8:11] for L in data['EventIDs'][nTests*(i-1):nTests*i] ]\n",
    "\n",
    "# Building Lists for Pandas\n",
    "sensor_data = []\n",
    "for j in range(len(X_time)):\n",
    "    sensor_data.append(X_time[j]+y[j]+[locations[j]]+[damage_levels[j]]+[shaker_voltage[j]]) \n",
    "\n",
    "# Constructing DataFrame\n",
    "sensor_time_df = pd.DataFrame(data=sensor_data, columns=cols)    \n",
    "data_dict['Sensor'+str(i)] = sensor_time_df\n",
    "\n",
    "print(f'Data processed for sensor {i}.')\n",
    "\n",
    "df_list = dict()\n",
    "# for sensor_num in range(1,num_sensors+1):\n",
    "sensor_num=1\n",
    "sensor_str = 'Sensor'+str(sensor_num)\n",
    "df = data_dict[sensor_str]\n",
    "df_list_temp = []\n",
    "for num in cases:\n",
    "    query1 = (df['damage_location']==num[0]).values\n",
    "    query2 = (df['damage_level']==num[1]).values\n",
    "    query3 = (df['voltage_level']==num[2]).values\n",
    "\n",
    "    df_query = df[query1 & query2 & query3]\n",
    "    df_list_temp.append(df_query.reset_index(drop=True)) # Organize cases per sensor\n",
    "\n",
    "df_list[sensor_str] = pd.concat(df_list_temp) # Concatenate cases across each sensor\n",
    "\n",
    "# Removing 40 D00 (heahlthy i.e. non damage) cases \n",
    "# Because a lot of the damage case only have 5 events recorded in total\n",
    "# We shall have 10 D00 --> 5 DB0 --> 5 DBB --> 5 DBB cases in a sequence\n",
    "df_list[sensor_str] =  df_list[sensor_str].iloc[40:,:].reset_index(drop=True)\n"
   ]
  },
  {
   "cell_type": "code",
   "execution_count": 4,
   "metadata": {},
   "outputs": [],
   "source": [
    "# with open(\".txt\", \"wb\") as fp:\n",
    "#     pickle.dump(ts, fp)\n",
    "    \n",
    "    \n",
    "# df_list = np.load('df_list.npy', allow_pickle=True).item()\n",
    "# import pickle\n",
    "# with open(\"/Users/yeechin/Desktop/anomaly detection/initial stages/bookshelf/df_list.txt\", \"rb\") as fp:   # Unpickling\n",
    "#     df_list = pickle.load(fp)\n",
    "\n",
    "with open(\"/Users/yeechin/Desktop/anomaly detection/initial stages/bookshelf/sens1.txt\", \"rb\") as fp:   # Unpickling\n",
    "    sens1 = pickle.load(fp)\n",
    "\n"
   ]
  },
  {
   "cell_type": "code",
   "execution_count": 5,
   "metadata": {},
   "outputs": [
    {
     "data": {
      "text/html": [
       "<div>\n",
       "<style scoped>\n",
       "    .dataframe tbody tr th:only-of-type {\n",
       "        vertical-align: middle;\n",
       "    }\n",
       "\n",
       "    .dataframe tbody tr th {\n",
       "        vertical-align: top;\n",
       "    }\n",
       "\n",
       "    .dataframe thead tr th {\n",
       "        text-align: left;\n",
       "    }\n",
       "</style>\n",
       "<table border=\"1\" class=\"dataframe\">\n",
       "  <thead>\n",
       "    <tr>\n",
       "      <th></th>\n",
       "      <th>Xt_0</th>\n",
       "      <th>Xt_1</th>\n",
       "      <th>Xt_2</th>\n",
       "      <th>Xt_3</th>\n",
       "      <th>Xt_4</th>\n",
       "      <th>Xt_5</th>\n",
       "      <th>Xt_6</th>\n",
       "      <th>Xt_7</th>\n",
       "      <th>Xt_8</th>\n",
       "      <th>Xt_9</th>\n",
       "      <th>...</th>\n",
       "      <th>Xt_8186</th>\n",
       "      <th>Xt_8187</th>\n",
       "      <th>Xt_8188</th>\n",
       "      <th>Xt_8189</th>\n",
       "      <th>Xt_8190</th>\n",
       "      <th>Xt_8191</th>\n",
       "      <th>y_labels</th>\n",
       "      <th>damage_location</th>\n",
       "      <th>damage_level</th>\n",
       "      <th>voltage_level</th>\n",
       "    </tr>\n",
       "  </thead>\n",
       "  <tbody>\n",
       "    <tr>\n",
       "      <th>0</th>\n",
       "      <td>0.050964</td>\n",
       "      <td>0.097872</td>\n",
       "      <td>0.152350</td>\n",
       "      <td>-0.010274</td>\n",
       "      <td>0.019737</td>\n",
       "      <td>0.038527</td>\n",
       "      <td>-0.064753</td>\n",
       "      <td>-0.055831</td>\n",
       "      <td>-0.194660</td>\n",
       "      <td>-0.248740</td>\n",
       "      <td>...</td>\n",
       "      <td>-0.018385</td>\n",
       "      <td>-0.029470</td>\n",
       "      <td>0.221700</td>\n",
       "      <td>-0.114910</td>\n",
       "      <td>0.040555</td>\n",
       "      <td>0.100170</td>\n",
       "      <td>0</td>\n",
       "      <td>L00</td>\n",
       "      <td>D00</td>\n",
       "      <td>V08</td>\n",
       "    </tr>\n",
       "    <tr>\n",
       "      <th>1</th>\n",
       "      <td>0.050964</td>\n",
       "      <td>0.097872</td>\n",
       "      <td>0.152350</td>\n",
       "      <td>-0.010274</td>\n",
       "      <td>0.019737</td>\n",
       "      <td>0.038527</td>\n",
       "      <td>-0.064753</td>\n",
       "      <td>-0.055831</td>\n",
       "      <td>-0.194660</td>\n",
       "      <td>-0.248740</td>\n",
       "      <td>...</td>\n",
       "      <td>-0.018385</td>\n",
       "      <td>-0.029470</td>\n",
       "      <td>0.221700</td>\n",
       "      <td>-0.114910</td>\n",
       "      <td>0.040555</td>\n",
       "      <td>0.100170</td>\n",
       "      <td>0</td>\n",
       "      <td>L00</td>\n",
       "      <td>D00</td>\n",
       "      <td>V08</td>\n",
       "    </tr>\n",
       "    <tr>\n",
       "      <th>2</th>\n",
       "      <td>-0.455300</td>\n",
       "      <td>-0.629820</td>\n",
       "      <td>-0.725120</td>\n",
       "      <td>-0.505310</td>\n",
       "      <td>-0.638740</td>\n",
       "      <td>-0.698360</td>\n",
       "      <td>-0.574800</td>\n",
       "      <td>-0.455030</td>\n",
       "      <td>-0.676860</td>\n",
       "      <td>-0.168300</td>\n",
       "      <td>...</td>\n",
       "      <td>0.254010</td>\n",
       "      <td>0.143700</td>\n",
       "      <td>0.229000</td>\n",
       "      <td>0.185740</td>\n",
       "      <td>0.027037</td>\n",
       "      <td>0.201690</td>\n",
       "      <td>0</td>\n",
       "      <td>L00</td>\n",
       "      <td>D00</td>\n",
       "      <td>V08</td>\n",
       "    </tr>\n",
       "    <tr>\n",
       "      <th>3</th>\n",
       "      <td>0.201150</td>\n",
       "      <td>0.289020</td>\n",
       "      <td>0.111800</td>\n",
       "      <td>0.268880</td>\n",
       "      <td>0.191690</td>\n",
       "      <td>-0.039473</td>\n",
       "      <td>-0.044610</td>\n",
       "      <td>-0.146540</td>\n",
       "      <td>-0.081380</td>\n",
       "      <td>-0.037851</td>\n",
       "      <td>...</td>\n",
       "      <td>-0.128020</td>\n",
       "      <td>0.036635</td>\n",
       "      <td>-0.225490</td>\n",
       "      <td>0.110170</td>\n",
       "      <td>0.011220</td>\n",
       "      <td>-0.181690</td>\n",
       "      <td>0</td>\n",
       "      <td>L00</td>\n",
       "      <td>D00</td>\n",
       "      <td>V08</td>\n",
       "    </tr>\n",
       "    <tr>\n",
       "      <th>4</th>\n",
       "      <td>0.109360</td>\n",
       "      <td>0.141130</td>\n",
       "      <td>0.052045</td>\n",
       "      <td>0.056101</td>\n",
       "      <td>-0.011085</td>\n",
       "      <td>-0.066916</td>\n",
       "      <td>-0.100310</td>\n",
       "      <td>-0.004461</td>\n",
       "      <td>-0.170470</td>\n",
       "      <td>-0.229140</td>\n",
       "      <td>...</td>\n",
       "      <td>-0.237650</td>\n",
       "      <td>0.195200</td>\n",
       "      <td>-0.051370</td>\n",
       "      <td>-0.376210</td>\n",
       "      <td>0.109230</td>\n",
       "      <td>-0.275100</td>\n",
       "      <td>0</td>\n",
       "      <td>L00</td>\n",
       "      <td>D00</td>\n",
       "      <td>V08</td>\n",
       "    </tr>\n",
       "    <tr>\n",
       "      <th>5</th>\n",
       "      <td>0.067997</td>\n",
       "      <td>0.070701</td>\n",
       "      <td>-0.106250</td>\n",
       "      <td>0.039068</td>\n",
       "      <td>-0.008516</td>\n",
       "      <td>-0.009733</td>\n",
       "      <td>0.183580</td>\n",
       "      <td>0.104900</td>\n",
       "      <td>-0.001893</td>\n",
       "      <td>0.258880</td>\n",
       "      <td>...</td>\n",
       "      <td>-0.187230</td>\n",
       "      <td>-0.025009</td>\n",
       "      <td>-0.378920</td>\n",
       "      <td>-0.039068</td>\n",
       "      <td>0.000541</td>\n",
       "      <td>-0.280100</td>\n",
       "      <td>0</td>\n",
       "      <td>L00</td>\n",
       "      <td>D00</td>\n",
       "      <td>V08</td>\n",
       "    </tr>\n",
       "    <tr>\n",
       "      <th>6</th>\n",
       "      <td>-0.486120</td>\n",
       "      <td>-0.321330</td>\n",
       "      <td>-0.472060</td>\n",
       "      <td>-0.255230</td>\n",
       "      <td>-0.143430</td>\n",
       "      <td>-0.218050</td>\n",
       "      <td>-0.159920</td>\n",
       "      <td>-0.171680</td>\n",
       "      <td>-0.156950</td>\n",
       "      <td>-0.219130</td>\n",
       "      <td>...</td>\n",
       "      <td>-0.176140</td>\n",
       "      <td>-0.061103</td>\n",
       "      <td>0.209130</td>\n",
       "      <td>-0.190200</td>\n",
       "      <td>0.185070</td>\n",
       "      <td>0.062995</td>\n",
       "      <td>0</td>\n",
       "      <td>L00</td>\n",
       "      <td>D00</td>\n",
       "      <td>V08</td>\n",
       "    </tr>\n",
       "    <tr>\n",
       "      <th>7</th>\n",
       "      <td>0.197230</td>\n",
       "      <td>0.119770</td>\n",
       "      <td>0.615080</td>\n",
       "      <td>0.348640</td>\n",
       "      <td>0.414880</td>\n",
       "      <td>0.715660</td>\n",
       "      <td>0.214400</td>\n",
       "      <td>0.493010</td>\n",
       "      <td>0.328090</td>\n",
       "      <td>0.271450</td>\n",
       "      <td>...</td>\n",
       "      <td>0.109900</td>\n",
       "      <td>0.002433</td>\n",
       "      <td>-0.256850</td>\n",
       "      <td>-0.203590</td>\n",
       "      <td>-0.276990</td>\n",
       "      <td>-0.549250</td>\n",
       "      <td>0</td>\n",
       "      <td>L00</td>\n",
       "      <td>D00</td>\n",
       "      <td>V08</td>\n",
       "    </tr>\n",
       "    <tr>\n",
       "      <th>8</th>\n",
       "      <td>0.032985</td>\n",
       "      <td>0.087463</td>\n",
       "      <td>0.043664</td>\n",
       "      <td>0.205880</td>\n",
       "      <td>0.128960</td>\n",
       "      <td>0.004596</td>\n",
       "      <td>0.213590</td>\n",
       "      <td>0.017844</td>\n",
       "      <td>0.102600</td>\n",
       "      <td>-0.032309</td>\n",
       "      <td>...</td>\n",
       "      <td>-0.286180</td>\n",
       "      <td>-0.145190</td>\n",
       "      <td>-0.250090</td>\n",
       "      <td>-0.073945</td>\n",
       "      <td>-0.291590</td>\n",
       "      <td>-0.267800</td>\n",
       "      <td>0</td>\n",
       "      <td>L00</td>\n",
       "      <td>D00</td>\n",
       "      <td>V08</td>\n",
       "    </tr>\n",
       "    <tr>\n",
       "      <th>9</th>\n",
       "      <td>0.238460</td>\n",
       "      <td>0.347560</td>\n",
       "      <td>0.137480</td>\n",
       "      <td>-0.163300</td>\n",
       "      <td>0.037581</td>\n",
       "      <td>-0.189530</td>\n",
       "      <td>0.118290</td>\n",
       "      <td>-0.260630</td>\n",
       "      <td>-0.208590</td>\n",
       "      <td>-0.311870</td>\n",
       "      <td>...</td>\n",
       "      <td>0.164250</td>\n",
       "      <td>0.135990</td>\n",
       "      <td>0.129370</td>\n",
       "      <td>0.276990</td>\n",
       "      <td>0.458810</td>\n",
       "      <td>0.329440</td>\n",
       "      <td>0</td>\n",
       "      <td>L00</td>\n",
       "      <td>D00</td>\n",
       "      <td>V08</td>\n",
       "    </tr>\n",
       "    <tr>\n",
       "      <th>10</th>\n",
       "      <td>0.039347</td>\n",
       "      <td>0.062288</td>\n",
       "      <td>0.046801</td>\n",
       "      <td>0.049762</td>\n",
       "      <td>0.055651</td>\n",
       "      <td>0.000630</td>\n",
       "      <td>0.008407</td>\n",
       "      <td>0.025204</td>\n",
       "      <td>-0.038904</td>\n",
       "      <td>-0.028489</td>\n",
       "      <td>...</td>\n",
       "      <td>-0.102660</td>\n",
       "      <td>-0.119160</td>\n",
       "      <td>-0.076039</td>\n",
       "      <td>-0.133940</td>\n",
       "      <td>-0.056553</td>\n",
       "      <td>-0.068312</td>\n",
       "      <td>1</td>\n",
       "      <td>L1C</td>\n",
       "      <td>DB0</td>\n",
       "      <td>V08</td>\n",
       "    </tr>\n",
       "    <tr>\n",
       "      <th>11</th>\n",
       "      <td>-0.030735</td>\n",
       "      <td>-0.022822</td>\n",
       "      <td>-0.009241</td>\n",
       "      <td>-0.024388</td>\n",
       "      <td>-0.004561</td>\n",
       "      <td>0.004084</td>\n",
       "      <td>-0.002655</td>\n",
       "      <td>0.017597</td>\n",
       "      <td>0.050834</td>\n",
       "      <td>0.024115</td>\n",
       "      <td>...</td>\n",
       "      <td>0.013887</td>\n",
       "      <td>0.036335</td>\n",
       "      <td>0.073758</td>\n",
       "      <td>0.068142</td>\n",
       "      <td>0.048009</td>\n",
       "      <td>0.055531</td>\n",
       "      <td>1</td>\n",
       "      <td>L1C</td>\n",
       "      <td>DB0</td>\n",
       "      <td>V08</td>\n",
       "    </tr>\n",
       "    <tr>\n",
       "      <th>12</th>\n",
       "      <td>-0.059241</td>\n",
       "      <td>-0.031467</td>\n",
       "      <td>-0.062356</td>\n",
       "      <td>-0.038445</td>\n",
       "      <td>-0.038836</td>\n",
       "      <td>-0.019980</td>\n",
       "      <td>-0.021256</td>\n",
       "      <td>-0.049286</td>\n",
       "      <td>-0.022141</td>\n",
       "      <td>-0.033952</td>\n",
       "      <td>...</td>\n",
       "      <td>0.044469</td>\n",
       "      <td>0.010415</td>\n",
       "      <td>0.042819</td>\n",
       "      <td>0.030106</td>\n",
       "      <td>0.017342</td>\n",
       "      <td>0.056059</td>\n",
       "      <td>1</td>\n",
       "      <td>L1C</td>\n",
       "      <td>DB0</td>\n",
       "      <td>V08</td>\n",
       "    </tr>\n",
       "    <tr>\n",
       "      <th>13</th>\n",
       "      <td>-0.008067</td>\n",
       "      <td>-0.042308</td>\n",
       "      <td>-0.033561</td>\n",
       "      <td>0.001668</td>\n",
       "      <td>-0.021103</td>\n",
       "      <td>0.011624</td>\n",
       "      <td>0.000323</td>\n",
       "      <td>-0.019554</td>\n",
       "      <td>0.020695</td>\n",
       "      <td>0.011692</td>\n",
       "      <td>...</td>\n",
       "      <td>0.002706</td>\n",
       "      <td>0.017495</td>\n",
       "      <td>-0.025579</td>\n",
       "      <td>0.031314</td>\n",
       "      <td>-0.004391</td>\n",
       "      <td>0.010245</td>\n",
       "      <td>1</td>\n",
       "      <td>L1C</td>\n",
       "      <td>DB0</td>\n",
       "      <td>V08</td>\n",
       "    </tr>\n",
       "    <tr>\n",
       "      <th>14</th>\n",
       "      <td>0.014398</td>\n",
       "      <td>0.017444</td>\n",
       "      <td>0.010586</td>\n",
       "      <td>-0.031178</td>\n",
       "      <td>0.007743</td>\n",
       "      <td>-0.008288</td>\n",
       "      <td>-0.030838</td>\n",
       "      <td>0.004680</td>\n",
       "      <td>-0.032420</td>\n",
       "      <td>-0.021562</td>\n",
       "      <td>...</td>\n",
       "      <td>-0.005174</td>\n",
       "      <td>-0.033033</td>\n",
       "      <td>-0.021733</td>\n",
       "      <td>-0.026038</td>\n",
       "      <td>-0.039398</td>\n",
       "      <td>-0.053557</td>\n",
       "      <td>1</td>\n",
       "      <td>L1C</td>\n",
       "      <td>DB0</td>\n",
       "      <td>V08</td>\n",
       "    </tr>\n",
       "    <tr>\n",
       "      <th>15</th>\n",
       "      <td>-0.009428</td>\n",
       "      <td>-0.002076</td>\n",
       "      <td>-0.009394</td>\n",
       "      <td>-0.012168</td>\n",
       "      <td>-0.015521</td>\n",
       "      <td>-0.025204</td>\n",
       "      <td>-0.033731</td>\n",
       "      <td>-0.007148</td>\n",
       "      <td>-0.033356</td>\n",
       "      <td>-0.018397</td>\n",
       "      <td>...</td>\n",
       "      <td>0.014942</td>\n",
       "      <td>0.040810</td>\n",
       "      <td>0.022005</td>\n",
       "      <td>0.054034</td>\n",
       "      <td>0.059667</td>\n",
       "      <td>0.042648</td>\n",
       "      <td>1</td>\n",
       "      <td>L1C</td>\n",
       "      <td>DBB</td>\n",
       "      <td>V08</td>\n",
       "    </tr>\n",
       "    <tr>\n",
       "      <th>16</th>\n",
       "      <td>0.009581</td>\n",
       "      <td>0.012543</td>\n",
       "      <td>0.038989</td>\n",
       "      <td>0.033918</td>\n",
       "      <td>0.026923</td>\n",
       "      <td>0.040487</td>\n",
       "      <td>0.045150</td>\n",
       "      <td>0.047005</td>\n",
       "      <td>0.046461</td>\n",
       "      <td>0.044486</td>\n",
       "      <td>...</td>\n",
       "      <td>0.051872</td>\n",
       "      <td>0.054698</td>\n",
       "      <td>0.040011</td>\n",
       "      <td>0.049337</td>\n",
       "      <td>0.053132</td>\n",
       "      <td>0.032931</td>\n",
       "      <td>1</td>\n",
       "      <td>L1C</td>\n",
       "      <td>DBB</td>\n",
       "      <td>V08</td>\n",
       "    </tr>\n",
       "    <tr>\n",
       "      <th>17</th>\n",
       "      <td>-0.007352</td>\n",
       "      <td>-0.025324</td>\n",
       "      <td>-0.023979</td>\n",
       "      <td>-0.026345</td>\n",
       "      <td>-0.027025</td>\n",
       "      <td>-0.004561</td>\n",
       "      <td>-0.029612</td>\n",
       "      <td>-0.028949</td>\n",
       "      <td>-0.013002</td>\n",
       "      <td>-0.029289</td>\n",
       "      <td>...</td>\n",
       "      <td>0.009683</td>\n",
       "      <td>0.002519</td>\n",
       "      <td>0.035807</td>\n",
       "      <td>0.021307</td>\n",
       "      <td>0.004612</td>\n",
       "      <td>0.020456</td>\n",
       "      <td>1</td>\n",
       "      <td>L1C</td>\n",
       "      <td>DBB</td>\n",
       "      <td>V08</td>\n",
       "    </tr>\n",
       "    <tr>\n",
       "      <th>18</th>\n",
       "      <td>0.045388</td>\n",
       "      <td>0.042308</td>\n",
       "      <td>0.042597</td>\n",
       "      <td>0.024626</td>\n",
       "      <td>0.024541</td>\n",
       "      <td>0.020712</td>\n",
       "      <td>0.015963</td>\n",
       "      <td>0.000187</td>\n",
       "      <td>0.023826</td>\n",
       "      <td>-0.002536</td>\n",
       "      <td>...</td>\n",
       "      <td>0.014670</td>\n",
       "      <td>0.027196</td>\n",
       "      <td>0.037134</td>\n",
       "      <td>0.036862</td>\n",
       "      <td>0.040793</td>\n",
       "      <td>0.027621</td>\n",
       "      <td>1</td>\n",
       "      <td>L1C</td>\n",
       "      <td>DBB</td>\n",
       "      <td>V08</td>\n",
       "    </tr>\n",
       "    <tr>\n",
       "      <th>19</th>\n",
       "      <td>-0.041849</td>\n",
       "      <td>-0.038002</td>\n",
       "      <td>-0.008050</td>\n",
       "      <td>-0.027859</td>\n",
       "      <td>-0.019180</td>\n",
       "      <td>-0.015504</td>\n",
       "      <td>-0.009479</td>\n",
       "      <td>0.001906</td>\n",
       "      <td>0.018516</td>\n",
       "      <td>0.019061</td>\n",
       "      <td>...</td>\n",
       "      <td>-0.009343</td>\n",
       "      <td>-0.038428</td>\n",
       "      <td>-0.015980</td>\n",
       "      <td>-0.015232</td>\n",
       "      <td>-0.031518</td>\n",
       "      <td>-0.000715</td>\n",
       "      <td>1</td>\n",
       "      <td>L1C</td>\n",
       "      <td>DBB</td>\n",
       "      <td>V08</td>\n",
       "    </tr>\n",
       "    <tr>\n",
       "      <th>20</th>\n",
       "      <td>-0.125450</td>\n",
       "      <td>-0.091789</td>\n",
       "      <td>0.053938</td>\n",
       "      <td>-0.234000</td>\n",
       "      <td>-0.168840</td>\n",
       "      <td>0.006218</td>\n",
       "      <td>-0.165730</td>\n",
       "      <td>0.017303</td>\n",
       "      <td>-0.179790</td>\n",
       "      <td>-0.256440</td>\n",
       "      <td>...</td>\n",
       "      <td>-0.581960</td>\n",
       "      <td>-0.672940</td>\n",
       "      <td>-0.992780</td>\n",
       "      <td>-0.723770</td>\n",
       "      <td>-0.621440</td>\n",
       "      <td>-0.811770</td>\n",
       "      <td>1</td>\n",
       "      <td>L13</td>\n",
       "      <td>DBB</td>\n",
       "      <td>V08</td>\n",
       "    </tr>\n",
       "    <tr>\n",
       "      <th>21</th>\n",
       "      <td>-0.132480</td>\n",
       "      <td>-0.271990</td>\n",
       "      <td>-0.323900</td>\n",
       "      <td>-0.190070</td>\n",
       "      <td>-0.351750</td>\n",
       "      <td>-0.429480</td>\n",
       "      <td>-0.387160</td>\n",
       "      <td>-0.262250</td>\n",
       "      <td>-0.342820</td>\n",
       "      <td>-0.412580</td>\n",
       "      <td>...</td>\n",
       "      <td>0.607780</td>\n",
       "      <td>0.477200</td>\n",
       "      <td>0.359720</td>\n",
       "      <td>0.251030</td>\n",
       "      <td>0.246980</td>\n",
       "      <td>0.229680</td>\n",
       "      <td>1</td>\n",
       "      <td>L13</td>\n",
       "      <td>DBB</td>\n",
       "      <td>V08</td>\n",
       "    </tr>\n",
       "    <tr>\n",
       "      <th>22</th>\n",
       "      <td>0.352960</td>\n",
       "      <td>-0.050829</td>\n",
       "      <td>0.214130</td>\n",
       "      <td>0.146940</td>\n",
       "      <td>0.077054</td>\n",
       "      <td>0.216970</td>\n",
       "      <td>0.048260</td>\n",
       "      <td>-0.073540</td>\n",
       "      <td>-0.011491</td>\n",
       "      <td>-0.237110</td>\n",
       "      <td>...</td>\n",
       "      <td>-0.124910</td>\n",
       "      <td>-0.074215</td>\n",
       "      <td>-0.488550</td>\n",
       "      <td>-0.181960</td>\n",
       "      <td>-0.083002</td>\n",
       "      <td>-0.082056</td>\n",
       "      <td>1</td>\n",
       "      <td>L13</td>\n",
       "      <td>DBB</td>\n",
       "      <td>V08</td>\n",
       "    </tr>\n",
       "    <tr>\n",
       "      <th>23</th>\n",
       "      <td>0.201560</td>\n",
       "      <td>0.404870</td>\n",
       "      <td>0.275910</td>\n",
       "      <td>0.204530</td>\n",
       "      <td>0.038933</td>\n",
       "      <td>-0.037986</td>\n",
       "      <td>0.222510</td>\n",
       "      <td>0.027442</td>\n",
       "      <td>-0.175330</td>\n",
       "      <td>-0.123020</td>\n",
       "      <td>...</td>\n",
       "      <td>0.303490</td>\n",
       "      <td>0.215080</td>\n",
       "      <td>0.384600</td>\n",
       "      <td>0.295240</td>\n",
       "      <td>0.405950</td>\n",
       "      <td>0.304970</td>\n",
       "      <td>1</td>\n",
       "      <td>L13</td>\n",
       "      <td>DBB</td>\n",
       "      <td>V08</td>\n",
       "    </tr>\n",
       "    <tr>\n",
       "      <th>24</th>\n",
       "      <td>-0.058669</td>\n",
       "      <td>-0.188580</td>\n",
       "      <td>-0.127750</td>\n",
       "      <td>-0.122750</td>\n",
       "      <td>0.052721</td>\n",
       "      <td>0.274690</td>\n",
       "      <td>0.095439</td>\n",
       "      <td>0.267800</td>\n",
       "      <td>0.276180</td>\n",
       "      <td>0.354720</td>\n",
       "      <td>...</td>\n",
       "      <td>-0.391350</td>\n",
       "      <td>-0.464490</td>\n",
       "      <td>-0.425560</td>\n",
       "      <td>-0.459890</td>\n",
       "      <td>-0.478010</td>\n",
       "      <td>-0.253870</td>\n",
       "      <td>1</td>\n",
       "      <td>L13</td>\n",
       "      <td>DBB</td>\n",
       "      <td>V08</td>\n",
       "    </tr>\n",
       "  </tbody>\n",
       "</table>\n",
       "<p>25 rows × 8196 columns</p>\n",
       "</div>"
      ],
      "text/plain": [
       "        Xt_0      Xt_1      Xt_2      Xt_3      Xt_4      Xt_5      Xt_6  \\\n",
       "0   0.050964  0.097872  0.152350 -0.010274  0.019737  0.038527 -0.064753   \n",
       "1   0.050964  0.097872  0.152350 -0.010274  0.019737  0.038527 -0.064753   \n",
       "2  -0.455300 -0.629820 -0.725120 -0.505310 -0.638740 -0.698360 -0.574800   \n",
       "3   0.201150  0.289020  0.111800  0.268880  0.191690 -0.039473 -0.044610   \n",
       "4   0.109360  0.141130  0.052045  0.056101 -0.011085 -0.066916 -0.100310   \n",
       "5   0.067997  0.070701 -0.106250  0.039068 -0.008516 -0.009733  0.183580   \n",
       "6  -0.486120 -0.321330 -0.472060 -0.255230 -0.143430 -0.218050 -0.159920   \n",
       "7   0.197230  0.119770  0.615080  0.348640  0.414880  0.715660  0.214400   \n",
       "8   0.032985  0.087463  0.043664  0.205880  0.128960  0.004596  0.213590   \n",
       "9   0.238460  0.347560  0.137480 -0.163300  0.037581 -0.189530  0.118290   \n",
       "10  0.039347  0.062288  0.046801  0.049762  0.055651  0.000630  0.008407   \n",
       "11 -0.030735 -0.022822 -0.009241 -0.024388 -0.004561  0.004084 -0.002655   \n",
       "12 -0.059241 -0.031467 -0.062356 -0.038445 -0.038836 -0.019980 -0.021256   \n",
       "13 -0.008067 -0.042308 -0.033561  0.001668 -0.021103  0.011624  0.000323   \n",
       "14  0.014398  0.017444  0.010586 -0.031178  0.007743 -0.008288 -0.030838   \n",
       "15 -0.009428 -0.002076 -0.009394 -0.012168 -0.015521 -0.025204 -0.033731   \n",
       "16  0.009581  0.012543  0.038989  0.033918  0.026923  0.040487  0.045150   \n",
       "17 -0.007352 -0.025324 -0.023979 -0.026345 -0.027025 -0.004561 -0.029612   \n",
       "18  0.045388  0.042308  0.042597  0.024626  0.024541  0.020712  0.015963   \n",
       "19 -0.041849 -0.038002 -0.008050 -0.027859 -0.019180 -0.015504 -0.009479   \n",
       "20 -0.125450 -0.091789  0.053938 -0.234000 -0.168840  0.006218 -0.165730   \n",
       "21 -0.132480 -0.271990 -0.323900 -0.190070 -0.351750 -0.429480 -0.387160   \n",
       "22  0.352960 -0.050829  0.214130  0.146940  0.077054  0.216970  0.048260   \n",
       "23  0.201560  0.404870  0.275910  0.204530  0.038933 -0.037986  0.222510   \n",
       "24 -0.058669 -0.188580 -0.127750 -0.122750  0.052721  0.274690  0.095439   \n",
       "\n",
       "        Xt_7      Xt_8      Xt_9  ...   Xt_8186   Xt_8187   Xt_8188   Xt_8189  \\\n",
       "0  -0.055831 -0.194660 -0.248740  ... -0.018385 -0.029470  0.221700 -0.114910   \n",
       "1  -0.055831 -0.194660 -0.248740  ... -0.018385 -0.029470  0.221700 -0.114910   \n",
       "2  -0.455030 -0.676860 -0.168300  ...  0.254010  0.143700  0.229000  0.185740   \n",
       "3  -0.146540 -0.081380 -0.037851  ... -0.128020  0.036635 -0.225490  0.110170   \n",
       "4  -0.004461 -0.170470 -0.229140  ... -0.237650  0.195200 -0.051370 -0.376210   \n",
       "5   0.104900 -0.001893  0.258880  ... -0.187230 -0.025009 -0.378920 -0.039068   \n",
       "6  -0.171680 -0.156950 -0.219130  ... -0.176140 -0.061103  0.209130 -0.190200   \n",
       "7   0.493010  0.328090  0.271450  ...  0.109900  0.002433 -0.256850 -0.203590   \n",
       "8   0.017844  0.102600 -0.032309  ... -0.286180 -0.145190 -0.250090 -0.073945   \n",
       "9  -0.260630 -0.208590 -0.311870  ...  0.164250  0.135990  0.129370  0.276990   \n",
       "10  0.025204 -0.038904 -0.028489  ... -0.102660 -0.119160 -0.076039 -0.133940   \n",
       "11  0.017597  0.050834  0.024115  ...  0.013887  0.036335  0.073758  0.068142   \n",
       "12 -0.049286 -0.022141 -0.033952  ...  0.044469  0.010415  0.042819  0.030106   \n",
       "13 -0.019554  0.020695  0.011692  ...  0.002706  0.017495 -0.025579  0.031314   \n",
       "14  0.004680 -0.032420 -0.021562  ... -0.005174 -0.033033 -0.021733 -0.026038   \n",
       "15 -0.007148 -0.033356 -0.018397  ...  0.014942  0.040810  0.022005  0.054034   \n",
       "16  0.047005  0.046461  0.044486  ...  0.051872  0.054698  0.040011  0.049337   \n",
       "17 -0.028949 -0.013002 -0.029289  ...  0.009683  0.002519  0.035807  0.021307   \n",
       "18  0.000187  0.023826 -0.002536  ...  0.014670  0.027196  0.037134  0.036862   \n",
       "19  0.001906  0.018516  0.019061  ... -0.009343 -0.038428 -0.015980 -0.015232   \n",
       "20  0.017303 -0.179790 -0.256440  ... -0.581960 -0.672940 -0.992780 -0.723770   \n",
       "21 -0.262250 -0.342820 -0.412580  ...  0.607780  0.477200  0.359720  0.251030   \n",
       "22 -0.073540 -0.011491 -0.237110  ... -0.124910 -0.074215 -0.488550 -0.181960   \n",
       "23  0.027442 -0.175330 -0.123020  ...  0.303490  0.215080  0.384600  0.295240   \n",
       "24  0.267800  0.276180  0.354720  ... -0.391350 -0.464490 -0.425560 -0.459890   \n",
       "\n",
       "     Xt_8190   Xt_8191 y_labels damage_location damage_level voltage_level  \n",
       "0   0.040555  0.100170        0             L00          D00           V08  \n",
       "1   0.040555  0.100170        0             L00          D00           V08  \n",
       "2   0.027037  0.201690        0             L00          D00           V08  \n",
       "3   0.011220 -0.181690        0             L00          D00           V08  \n",
       "4   0.109230 -0.275100        0             L00          D00           V08  \n",
       "5   0.000541 -0.280100        0             L00          D00           V08  \n",
       "6   0.185070  0.062995        0             L00          D00           V08  \n",
       "7  -0.276990 -0.549250        0             L00          D00           V08  \n",
       "8  -0.291590 -0.267800        0             L00          D00           V08  \n",
       "9   0.458810  0.329440        0             L00          D00           V08  \n",
       "10 -0.056553 -0.068312        1             L1C          DB0           V08  \n",
       "11  0.048009  0.055531        1             L1C          DB0           V08  \n",
       "12  0.017342  0.056059        1             L1C          DB0           V08  \n",
       "13 -0.004391  0.010245        1             L1C          DB0           V08  \n",
       "14 -0.039398 -0.053557        1             L1C          DB0           V08  \n",
       "15  0.059667  0.042648        1             L1C          DBB           V08  \n",
       "16  0.053132  0.032931        1             L1C          DBB           V08  \n",
       "17  0.004612  0.020456        1             L1C          DBB           V08  \n",
       "18  0.040793  0.027621        1             L1C          DBB           V08  \n",
       "19 -0.031518 -0.000715        1             L1C          DBB           V08  \n",
       "20 -0.621440 -0.811770        1             L13          DBB           V08  \n",
       "21  0.246980  0.229680        1             L13          DBB           V08  \n",
       "22 -0.083002 -0.082056        1             L13          DBB           V08  \n",
       "23  0.405950  0.304970        1             L13          DBB           V08  \n",
       "24 -0.478010 -0.253870        1             L13          DBB           V08  \n",
       "\n",
       "[25 rows x 8196 columns]"
      ]
     },
     "execution_count": 5,
     "metadata": {},
     "output_type": "execute_result"
    }
   ],
   "source": [
    "sens1"
   ]
  },
  {
   "cell_type": "code",
   "execution_count": null,
   "metadata": {},
   "outputs": [],
   "source": [
    "sens1 = df_list['Sensor1']\n"
   ]
  },
  {
   "cell_type": "code",
   "execution_count": null,
   "metadata": {},
   "outputs": [],
   "source": [
    "with open(\"sens1.txt\", \"wb\") as fp:\n",
    "    pickle.dump(sens1, fp)\n",
    "    "
   ]
  },
  {
   "cell_type": "code",
   "execution_count": 6,
   "metadata": {},
   "outputs": [],
   "source": [
    "sens1_data = sens1.iloc[:,:-4]"
   ]
  },
  {
   "cell_type": "code",
   "execution_count": null,
   "metadata": {},
   "outputs": [],
   "source": [
    "sens1_data"
   ]
  },
  {
   "cell_type": "markdown",
   "metadata": {},
   "source": [
    "### data for all sensors"
   ]
  },
  {
   "cell_type": "code",
   "execution_count": null,
   "metadata": {},
   "outputs": [],
   "source": [
    "# cases = [['L00','D00','V08'], ['L1C','DB0','V08'],  ['L1C','DBB','V08'], ['L13','DBB','V08']]\n",
    "\n",
    "# Extracting relevant values (based on keys)\n",
    "# data = mat4py.loadmat('Building_Model.mat')\n",
    "#yee\n",
    "# data = mat4py.loadmat('/Users/yeechin/Desktop/anomaly detection/initial stages/bookshelf/Building_Model.mat')\n",
    "# data_dict = np.load('data_dict.npy', allow_pickle=True).item()\n",
    "\n",
    "nTests = data['nTests']\n",
    "nHealthy = data['nHealthyTests']\n",
    "nDamage = data['nDamagedTests']\n",
    "nSensors = data['nSensors']\n",
    "X = data['X']\n",
    "\n",
    "# Making informative columns names (for pandas data frame)\n",
    "info_cols = ['y_labels','damage_location','damage_level','voltage_level']\n",
    "X_cols_time = ['Xt_'+str(i) for i in range(len(X[0]))]\n",
    "cols = [X_cols_time + info_cols]\n",
    "\n",
    "# Data info\n",
    "signal_length = 8192   # Counts\n",
    "fs = 1600 # Hz\n",
    "total_time = 8192 / 1600 # 5.12 seconds\n",
    "num_sensors = 24 # Total number of sensors\n",
    "\n",
    "data_dict = {}\n",
    "i=1\n",
    "    \n",
    "# Extracting Data   \n",
    "X_time = X[nTests*(i-1):nTests*i]\n",
    "y = data['labels_binary'][nTests*(i-1):nTests*i]\n",
    "locations = [ L[0][0:3] for L in data['EventIDs'][nTests*(i-1):nTests*i] ]\n",
    "damage_levels = [ L[0][4:7] for L in data['EventIDs'][nTests*(i-1):nTests*i] ]\n",
    "shaker_voltage = [ L[0][8:11] for L in data['EventIDs'][nTests*(i-1):nTests*i] ]\n",
    "\n",
    "# Building Lists for Pandas\n",
    "sensor_data = []\n",
    "for j in range(len(X_time)):\n",
    "    sensor_data.append(X_time[j]+y[j]+[locations[j]]+[damage_levels[j]]+[shaker_voltage[j]]) \n",
    "\n",
    "# Constructing DataFrame\n",
    "sensor_time_df = pd.DataFrame(data=sensor_data, columns=cols)    \n",
    "data_dict['Sensor'+str(i)] = sensor_time_df\n",
    "\n",
    "print(f'Data processed for sensor {i}.')\n",
    "\n",
    "df_list = dict()\n",
    "# for sensor_num in range(1,num_sensors+1):\n",
    "sensor_num=1\n",
    "sensor_str = 'Sensor'+str(sensor_num)\n",
    "df = data_dict[sensor_str]\n",
    "df_list_temp = []\n",
    "for num in cases:\n",
    "    query1 = (df['damage_location']==num[0]).values\n",
    "    query2 = (df['damage_level']==num[1]).values\n",
    "    query3 = (df['voltage_level']==num[2]).values\n",
    "\n",
    "    df_query = df[query1 & query2 & query3]\n",
    "    df_list_temp.append(df_query.reset_index(drop=True)) # Organize cases per sensor\n",
    "\n",
    "df_list[sensor_str] = pd.concat(df_list_temp) # Concatenate cases across each sensor\n",
    "\n",
    "# Removing 40 D00 (heahlthy i.e. non damage) cases \n",
    "# Because a lot of the damage case only have 5 events recorded in total\n",
    "# We shall have 10 D00 --> 5 DB0 --> 5 DBB --> 5 DBB cases in a sequence\n",
    "df_list[sensor_str] =  df_list[sensor_str].iloc[40:,:].reset_index(drop=True)\n"
   ]
  },
  {
   "cell_type": "markdown",
   "metadata": {},
   "source": [
    "# Welch processing followed by animation\n",
    "\n",
    "sensor 1 only"
   ]
  },
  {
   "cell_type": "code",
   "execution_count": 8,
   "metadata": {},
   "outputs": [],
   "source": [
    "############# WELCH ONLY SENSOR 1 ########################################################################\n",
    "\n",
    "num_experiments = 25 \n",
    "# Parameter for p-welch transform\n",
    "# nperseg = df_list['Sensor1'].shape[1]//8\n",
    "nperseg = sens1.shape[1]//8\n",
    "\n",
    "# Total length of signal recording\n",
    "signal_length = 8192 # len(X_cols_time)\n",
    "\n",
    "\n",
    "building_features = dict()\n",
    "welch_list = []\n",
    "\n",
    "for i in range(num_experiments):\n",
    "    experiment_str = f'Experiment{i+1}'\n",
    "    data_row = sens1_data.iloc[i,:]\n",
    "    data_row_demeaned = data_row - np.mean(data_row) # Remove \"DC\" component (i.e. de-mean)\n",
    "    \n",
    "    pxx = welch(data_row_demeaned, fs=1600, nperseg=nperseg) # Returns len 2 tuple\n",
    "    welch_list.append(np.log(pxx[1]/max(pxx[1]))) # Feature Engineering\n",
    "    \n",
    "    building_features[experiment_str] = np.array(welch_list)\n",
    "\n",
    "    welch_list.clear()\n"
   ]
  },
  {
   "cell_type": "code",
   "execution_count": 9,
   "metadata": {},
   "outputs": [],
   "source": [
    "building_seq = np.hstack([building_features[f'Experiment{i+1}'] for i in range(num_experiments)]).squeeze()"
   ]
  },
  {
   "cell_type": "code",
   "execution_count": null,
   "metadata": {},
   "outputs": [],
   "source": []
  },
  {
   "cell_type": "markdown",
   "metadata": {},
   "source": [
    "### Animation Code with regime change pt vert lines\n",
    "this code is for welch only OR vmd mode 1 -> welch. \n",
    "\n",
    "basically no OT pooling\n",
    "\n",
    "dodge vertical line implementation for regime changes cause only deals with one vertical line at a time - if there are multiple regime changes in a certain window frame then code needs updating\n",
    "\n",
    "input regime changes at regime_change_idxs"
   ]
  },
  {
   "cell_type": "code",
   "execution_count": null,
   "metadata": {},
   "outputs": [],
   "source": [
    "m = 100\n",
    "L = m \n",
    "\n",
    "old_data = building_seq[:513*5]\n",
    "new_data = building_seq[513*5:] # take the first 5 experiments. There are 25 experiments, with changes occuring in 10, 15, 20 \n",
    "mp = stumpy.stump(old_data, m=m)\n",
    "cac_1d = _cac(mp[:, 3], L, bidirectional=False, excl_factor=1)  # This is for demo purposes only. Use floss() below!\n",
    "stream = stumpy.floss(mp, old_data, m=m, L=L, excl_factor=1)\n",
    "\n",
    "windows = []\n",
    "\n",
    "regime_change_idxs = []\n",
    "for n_exp in [10,15,20]:\n",
    "    regime_change_idxs.append(n_exp*513)\n",
    "\n",
    "current_x_window = list(np.arange(513*5))\n",
    "\n",
    "for i, t in enumerate(new_data): \n",
    "    stream.update(t)\n",
    "    \n",
    "    #update the window of x values we are currently looking at CAC for\n",
    "    current_x_window = current_x_window[1:]\n",
    "    current_x_window.append(i+513*5)\n",
    "    \n",
    "    if i % 100 == 0:\n",
    "        #note any indices of regime changes in this x values window\n",
    "        regime_changes_window_idxs = [0]\n",
    "        for change in regime_change_idxs:\n",
    "            if change in current_x_window:\n",
    "                regime_changes_window_idxs.append(current_x_window.index(change))\n",
    "        windows.append((stream.T_, stream.cac_1d_, regime_changes_window_idxs))\n",
    "        \n",
    "#     if (i+1) % 513*5b == 0:\n",
    "\n",
    "\n",
    "fig, axs = plt.subplots(2, sharex=True, gridspec_kw={'hspace': 0})\n",
    "\n",
    "axs[0].set_xlim((0, mp.shape[0]))\n",
    "Y_MIN = min(np.min(old_data), np.min(new_data))\n",
    "Y_MAX = max(np.max(old_data), np.max(new_data))\n",
    "axs[0].set_ylim(Y_MIN, Y_MAX)\n",
    "axs[1].set_xlim((0, mp.shape[0]))\n",
    "axs[1].set_ylim((-0.1, 1.1))\n",
    "\n",
    "#legend here^ try\n",
    "\n",
    "lines = []\n",
    "\n",
    "for ax in axs: #create empty structures for each frame\n",
    "    line, = ax.plot([], [], lw=2)\n",
    "    lines.append(line)\n",
    "    line, = ax.plot([],[], linewidth=2, color= 'red')\n",
    "    lines.append(line)\n",
    "line, = axs[1].plot([], [], lw=2) # create structure for orange curve\n",
    "lines.append(line)\n",
    "\n",
    "def init():\n",
    "    for line in lines:\n",
    "        line.set_data([], [])\n",
    "    return lines\n",
    "\n",
    "def animate(window):\n",
    "    data_out, cac_out, regime_changes = window\n",
    "#     for line, data in zip(lines, [data_out, regime_changes, cac_out, regime_changes, cac_1d]):\n",
    "#         line.set_data(np.arange(data.shape[0]), data)\n",
    "    lines[0].set_data(np.arange(data_out.shape[0]), data_out)\n",
    "    lines[2].set_data(np.arange(cac_out.shape[0]), cac_out)\n",
    "#     lines[4].set_data(np.arange(cac_1d.shape[0]), cac_1d)\n",
    "    rgm_change = max(regime_changes)\n",
    "    lines[1].set_data([rgm_change,rgm_change],[Y_MIN, Y_MAX])\n",
    "    lines[3].set_data([rgm_change,rgm_change],[-0.1, 1.1])\n",
    "    return lines\n",
    "\n",
    "anim = animation.FuncAnimation(fig, animate, init_func=init,\n",
    "                               frames=windows, interval=100,\n",
    "                               blit=True)\n",
    "\n",
    "anim_out = anim.to_jshtml()\n",
    "plt.close()  # Prevents duplicate image from displaying\n",
    "if os.path.exists(\"None0000000.png\"):\n",
    "    os.remove(\"None0000000.png\")  # Delete rogue temp file\n",
    "\n",
    "HTML(anim_out)\n",
    "\n",
    "\n"
   ]
  },
  {
   "cell_type": "code",
   "execution_count": null,
   "metadata": {},
   "outputs": [],
   "source": []
  },
  {
   "cell_type": "code",
   "execution_count": null,
   "metadata": {},
   "outputs": [],
   "source": [
    "writergif = animation.PillowWriter(fps = 10)\n",
    "anim.save('welch-cac-10fps.gif',writer=writergif)\n",
    "\n",
    "#add legend etc\n",
    "\n",
    "#separate the notebook more so you can just run through it for each diff process"
   ]
  },
  {
   "cell_type": "markdown",
   "metadata": {},
   "source": [
    "# VMD mode 1, Welch processing - and animation\n",
    "\n",
    "sensor 1"
   ]
  },
  {
   "cell_type": "code",
   "execution_count": null,
   "metadata": {},
   "outputs": [],
   "source": [
    "############# VMD -> WELCH SENSOR 1 ########################################################################\n",
    "\n",
    "\n",
    "# Parameters for VMD  \n",
    "alpha = 2000      # Moderate bandwidth constraint  \n",
    "tau = 0.          # Noise-tolerance (no strict fidelity enforcement)  \n",
    "num_modes = 5     # Num modes  \n",
    "DC = 0            # No DC part imposed  \n",
    "init = 0          # Initialize omegas uniformly  \n",
    "tol = 1e-7        # Optimization Convergence Tolerance\n",
    "\n",
    "# Parameter for p-welch transform\n",
    "nperseg = df_list['Sensor1'].shape[1]//8\n",
    "\n",
    "num_experiments = 25 \n",
    "\n",
    "# Total length of signal recording\n",
    "signal_length = 8192 # len(X_cols_time)\n",
    "\n",
    "\n",
    "building_features = dict()\n",
    "\n",
    "for i in range(num_experiments):\n",
    "    experiment_str = f'Experiment{i+1}'\n",
    "    data_row = sens1_data.iloc[i,:]\n",
    "    data_row_demeaned = data_row - np.mean(data_row) # Remove \"DC\" component (i.e. de-mean)\n",
    "    \n",
    "    u, _, _ = VMD(data_row_demeaned, alpha, tau, num_modes, DC, init, tol)  # Return K x n-array from n-array input\n",
    "    if i%5 == 0:\n",
    "        print(f'\\tProcessed VMD for sens 1 Experiment Num (i.e. Data Row) {i}')\n",
    "    vmd_list = []\n",
    "    for j in range(num_modes):\n",
    "        # For Each VMD Signal More Feature Engineering\n",
    "        # Paper for welch: http://bobweigel.net/csi763/images/Welch_1967.pdf\n",
    "        pxx = welch(u[j,:], fs=1600, nperseg=nperseg) # Returns len 2 tuple\n",
    "        vmd_list.append(np.log(pxx[1]/max(pxx[1]))) # Feature Engineering\n",
    "\n",
    "    building_features[experiment_str] = np.array(vmd_list)\n",
    "\n"
   ]
  },
  {
   "cell_type": "code",
   "execution_count": null,
   "metadata": {},
   "outputs": [],
   "source": [
    "building_seq = np.hstack([building_features[f'Experiment{i+1}'] for i in range(num_experiments)]).squeeze()"
   ]
  },
  {
   "cell_type": "code",
   "execution_count": null,
   "metadata": {},
   "outputs": [],
   "source": [
    "building_seq_old = building_seq\n",
    "building_seq = building_seq[0] #run this and then animation for welch only if I want to see vmd mode 1 -> welch"
   ]
  },
  {
   "cell_type": "code",
   "execution_count": null,
   "metadata": {},
   "outputs": [],
   "source": [
    "len(building_seq)/25"
   ]
  },
  {
   "cell_type": "markdown",
   "metadata": {},
   "source": [
    "### Animation Code with regime change pt vert lines\n",
    "this code is for welch only OR vmd mode 1 -> welch. \n",
    "\n",
    "basically no OT pooling\n",
    "\n",
    "dodge vertical line implementation for regime changes cause only deals with one vertical line at a time - if there are multiple regime changes in a certain window frame then code needs updating\n",
    "\n",
    "input regime changes at regime_change_idxs"
   ]
  },
  {
   "cell_type": "code",
   "execution_count": null,
   "metadata": {
    "scrolled": true
   },
   "outputs": [],
   "source": [
    "m = 100\n",
    "L = m \n",
    "\n",
    "old_data = building_seq[:513*5]\n",
    "new_data = building_seq[513*5:] # take the first 5 experiments. There are 25 experiments, with changes occuring in 10, 15, 20 \n",
    "mp = stumpy.stump(old_data, m=m)\n",
    "cac_1d = _cac(mp[:, 3], L, bidirectional=False, excl_factor=1)  # This is for demo purposes only. Use floss() below!\n",
    "stream = stumpy.floss(mp, old_data, m=m, L=L, excl_factor=1)\n",
    "\n",
    "windows = []\n",
    "\n",
    "regime_change_idxs = []\n",
    "for n_exp in [10,15,20]:\n",
    "    regime_change_idxs.append(n_exp*513)\n",
    "\n",
    "current_x_window = list(np.arange(513*5))\n",
    "\n",
    "for i, t in enumerate(new_data): \n",
    "    stream.update(t)\n",
    "    \n",
    "    #update the window of x values we are currently looking at CAC for\n",
    "    current_x_window = current_x_window[1:]\n",
    "    current_x_window.append(i+513*5)\n",
    "    \n",
    "    if i % 100 == 0:\n",
    "        #note any indices of regime changes in this x values window\n",
    "        regime_changes_window_idxs = [0]\n",
    "        for change in regime_change_idxs:\n",
    "            if change in current_x_window:\n",
    "                regime_changes_window_idxs.append(current_x_window.index(change))\n",
    "        windows.append((stream.T_, stream.cac_1d_, regime_changes_window_idxs))\n",
    "        \n",
    "#     if (i+1) % 513*5b == 0:\n",
    "\n",
    "\n",
    "fig, axs = plt.subplots(2, sharex=True, gridspec_kw={'hspace': 0})\n",
    "\n",
    "axs[0].set_xlim((0, mp.shape[0]))\n",
    "Y_MIN = min(np.min(old_data), np.min(new_data))\n",
    "Y_MAX = max(np.max(old_data), np.max(new_data))\n",
    "axs[0].set_ylim(Y_MIN, Y_MAX)\n",
    "axs[1].set_xlim((0, mp.shape[0]))\n",
    "axs[1].set_ylim((-0.1, 1.1))\n",
    "\n",
    "#legend here^ try\n",
    "\n",
    "lines = []\n",
    "\n",
    "for ax in axs: #create empty structures for each frame\n",
    "    line, = ax.plot([], [], lw=2)\n",
    "    lines.append(line)\n",
    "    line, = ax.plot([],[], linewidth=2, color= 'red')\n",
    "    lines.append(line)\n",
    "line, = axs[1].plot([], [], lw=2) # create structure for orange curve\n",
    "lines.append(line)\n",
    "\n",
    "def init():\n",
    "    for line in lines:\n",
    "        line.set_data([], [])\n",
    "    return lines\n",
    "\n",
    "def animate(window):\n",
    "    data_out, cac_out, regime_changes = window\n",
    "#     for line, data in zip(lines, [data_out, regime_changes, cac_out, regime_changes, cac_1d]):\n",
    "#         line.set_data(np.arange(data.shape[0]), data)\n",
    "    lines[0].set_data(np.arange(data_out.shape[0]), data_out)\n",
    "    lines[2].set_data(np.arange(cac_out.shape[0]), cac_out)\n",
    "#     lines[4].set_data(np.arange(cac_1d.shape[0]), cac_1d)\n",
    "    rgm_change = max(regime_changes)\n",
    "    lines[1].set_data([rgm_change,rgm_change],[Y_MIN, Y_MAX])\n",
    "    lines[3].set_data([rgm_change,rgm_change],[-0.1, 1.1])\n",
    "    return lines\n",
    "\n",
    "anim = animation.FuncAnimation(fig, animate, init_func=init,\n",
    "                               frames=windows, interval=100,\n",
    "                               blit=True)\n",
    "\n",
    "anim_out = anim.to_jshtml()\n",
    "plt.close()  # Prevents duplicate image from displaying\n",
    "if os.path.exists(\"None0000000.png\"):\n",
    "    os.remove(\"None0000000.png\")  # Delete rogue temp file\n",
    "\n",
    "HTML(anim_out)\n",
    "\n",
    "\n"
   ]
  },
  {
   "cell_type": "code",
   "execution_count": null,
   "metadata": {},
   "outputs": [],
   "source": [
    "writergif = animation.PillowWriter(fps = 10)\n",
    "anim.save('vmd1-welch-cac-10fps.gif',writer=writergif)"
   ]
  },
  {
   "cell_type": "markdown",
   "metadata": {},
   "source": [
    "# VMD, welch, CAC, OT, animation\n",
    "\n",
    "vmd -> welch and then OT attempt layer 1 over modes, and animation"
   ]
  },
  {
   "cell_type": "markdown",
   "metadata": {},
   "source": [
    "### initialisation\n",
    "\n"
   ]
  },
  {
   "cell_type": "code",
   "execution_count": null,
   "metadata": {},
   "outputs": [],
   "source": [
    "m = 100\n",
    "L = m \n",
    "\n",
    "cac_list = [] #to store the initial cacs for each mode \n",
    "\n",
    "stream = dict()\n",
    "\n",
    "#initialising and also setting up streaming objects for each mode\n",
    "for mode in range(num_modes): \n",
    "    old_data = building_seq[mode][:513*5] # take the first 5 experiments. There are 25 experiments, with changes occuring in 10, 15, 20 \n",
    "    mp = stumpy.stump(old_data, m=m)\n",
    "    cac_list.append(_cac(mp[:, 3], L, bidirectional=False, excl_factor=1))\n",
    "    vmd_str = f'vmd{mode}'\n",
    "    stream[vmd_str] = stumpy.floss(mp, old_data, m=m, L=L, excl_factor=1)\n",
    "\n",
    "cac_list= np.array(cac_list)\n",
    "\n"
   ]
  },
  {
   "cell_type": "code",
   "execution_count": null,
   "metadata": {},
   "outputs": [],
   "source": [
    "#OT layer 1 for initial data ( first five experiments)\n",
    "sub_sample_rate = 10\n",
    "\n",
    "A = cac_list.T\n",
    "B = A[::sub_sample_rate,:] # Sub-sampling to increase OT processing\n",
    "M = ot.utils.dist0(B.shape[0]) # Ground Metric \n",
    "M /= M.max()  # Normalizing ground metric \n",
    "M*=1e+4 # Tuning ground metric for problem (hyper-param)\n",
    "\n",
    "bary_wass = ot.barycenter_unbalanced(B, M, reg=5e-4, reg_m=1e-1) # reg - Entropic Regularization \n",
    "\n",
    "cac_1d = np.repeat(bary_wass,10)"
   ]
  },
  {
   "cell_type": "code",
   "execution_count": null,
   "metadata": {},
   "outputs": [],
   "source": [
    "cac_list.shape"
   ]
  },
  {
   "cell_type": "code",
   "execution_count": null,
   "metadata": {},
   "outputs": [],
   "source": [
    "stream"
   ]
  },
  {
   "cell_type": "markdown",
   "metadata": {},
   "source": [
    "### streaming part - and OT pooling over modes - animation\n",
    "\n",
    "changes made to previous code that didn't OT barycentre pool at all:\n",
    "- obviously pool\n",
    "- subsampling by 10 has to also be accounted for - easiest way is to repeat the cac values 10 times"
   ]
  },
  {
   "cell_type": "code",
   "execution_count": null,
   "metadata": {},
   "outputs": [],
   "source": [
    "#streaming part \n",
    "\n",
    "\n",
    "windows = []\n",
    "\n",
    "regime_change_idxs = []\n",
    "for n_exp in [10,15,20]:\n",
    "    regime_change_idxs.append(n_exp*513)\n",
    "\n",
    "current_x_window = list(np.arange(513*5))\n",
    "\n",
    "\n",
    "new_data = building_seq.T[513*5:]\n",
    "\n",
    "for i, t in enumerate(new_data): \n",
    "    \n",
    "    #update the window of x values we are currently looking at CAC for\n",
    "    current_x_window = current_x_window[1:]\n",
    "    current_x_window.append(i+513*5)\n",
    "\n",
    "    cac_list = []\n",
    "\n",
    "    for mode in range(num_modes):\n",
    "        vmd_str = f'vmd{mode}'\n",
    "        stream[vmd_str].update(t[mode])\n",
    "        cac_list.append(stream[vmd_str].cac_1d_)\n",
    "    cac_list = np.array(cac_list)\n",
    "\n",
    "    if i % 100 == 0:\n",
    "        #note any indices of regime changes in this x values window\n",
    "        regime_changes_window_idxs = [0]\n",
    "        for change in regime_change_idxs:\n",
    "            if change in current_x_window:\n",
    "                regime_changes_window_idxs.append(current_x_window.index(change))\n",
    "                \n",
    "        #layer 1 pooling over modes\n",
    "        sub_sample_rate = 10 #for fast OT processing\n",
    "        A = cac_list.T\n",
    "        B = A[::sub_sample_rate,:] # Sub-sampling to increase OT processing\n",
    "        M = ot.utils.dist0(B.shape[0]) # Ground Metric \n",
    "        M /= M.max()  # Normalizing ground metric \n",
    "        M*=1e+4 # Tuning ground metric for problem (hyper-param)\n",
    "\n",
    "        bary_wass = ot.barycenter_unbalanced(B, M, reg=5e-4, reg_m=1e-1) # reg - Entropic Regularization \n",
    "\n",
    "        current_cac_1d = np.repeat(bary_wass,10)\n",
    "        \n",
    "        windows.append((stream['vmd1'].T_, current_cac_1d, regime_changes_window_idxs))\n",
    "\n",
    "\n",
    "fig, axs = plt.subplots(2, sharex=True, gridspec_kw={'hspace': 0})\n",
    "\n",
    "axs[0].set_xlim((0, len(current_x_window)))\n",
    "Y_MIN = np.min(building_seq[0])\n",
    "Y_MAX = np.max(building_seq[0])\n",
    "axs[0].set_ylim(Y_MIN, Y_MAX)\n",
    "axs[1].set_xlim((0, len(current_x_window)))\n",
    "axs[1].set_ylim((-0.1, 1.1))\n",
    "\n",
    "lines = []\n",
    "\n",
    "for ax in axs: #create empty structures for each frame\n",
    "    line, = ax.plot([], [], lw=2)\n",
    "    lines.append(line)\n",
    "    line, = ax.plot([],[], linewidth=2, color= 'red')\n",
    "    lines.append(line)\n",
    "line, = axs[1].plot([], [], lw=2) # create structure for orange curve\n",
    "lines.append(line)\n",
    "\n",
    "def init():\n",
    "    for line in lines:\n",
    "        line.set_data([], [])\n",
    "    return lines\n",
    "\n",
    "def animate(window):\n",
    "    data_out, cac_out, regime_changes = window\n",
    "#     for line, data in zip(lines, [data_out, regime_changes, cac_out, regime_changes, cac_1d]):\n",
    "#         line.set_data(np.arange(data.shape[0]), data)\n",
    "    lines[0].set_data(np.arange(data_out.shape[0]), data_out)\n",
    "    lines[2].set_data(np.arange(cac_out.shape[0]), cac_out)\n",
    "#     lines[4].set_data(np.arange(cac_1d.shape[0]), cac_1d)\n",
    "    rgm_change = max(regime_changes)\n",
    "    lines[1].set_data([rgm_change,rgm_change],[Y_MIN, Y_MAX])\n",
    "    lines[3].set_data([rgm_change,rgm_change],[-0.1, 1.1])\n",
    "    return lines\n",
    "\n",
    "anim = animation.FuncAnimation(fig, animate, init_func=init,\n",
    "                               frames=windows, interval=100,\n",
    "                               blit=True)\n",
    "\n",
    "anim_out = anim.to_jshtml()\n",
    "plt.close()  # Prevents duplicate image from displaying\n",
    "if os.path.exists(\"None0000000.png\"):\n",
    "    os.remove(\"None0000000.png\")  # Delete rogue temp file\n",
    "\n",
    "HTML(anim_out)\n",
    "\n"
   ]
  },
  {
   "cell_type": "markdown",
   "metadata": {},
   "source": [
    "# VMD, welch, CAC, OT over modes, OT over sensors (2 layers) animation\n",
    "\n",
    "vmd -> welch and then OT attempt layer 1 over modes, then OT layer 2 over sensors and animation"
   ]
  },
  {
   "cell_type": "markdown",
   "metadata": {},
   "source": [
    "### initialisation\n",
    "\n"
   ]
  },
  {
   "cell_type": "code",
   "execution_count": null,
   "metadata": {},
   "outputs": [],
   "source": [
    "m = 100\n",
    "L = m \n",
    "\n",
    "cac_list = [] #to store the initial cacs for each mode \n",
    "\n",
    "stream = dict()\n",
    "\n",
    "#initialising and also setting up streaming objects for each mode\n",
    "for mode in range(num_modes): \n",
    "    old_data = building_seq[mode][:513*5] # take the first 5 experiments. There are 25 experiments, with changes occuring in 10, 15, 20 \n",
    "    mp = stumpy.stump(old_data, m=m)\n",
    "    cac_list.append(_cac(mp[:, 3], L, bidirectional=False, excl_factor=1))\n",
    "    vmd_str = f'vmd{mode}'\n",
    "    stream[vmd_str] = stumpy.floss(mp, old_data, m=m, L=L, excl_factor=1)\n",
    "\n",
    "cac_list= np.array(cac_list)\n",
    "\n"
   ]
  },
  {
   "cell_type": "code",
   "execution_count": null,
   "metadata": {},
   "outputs": [],
   "source": [
    "#OT layer 1 for initial data ( first five experiments)\n",
    "sub_sample_rate = 10\n",
    "\n",
    "A = cac_list.T\n",
    "B = A[::sub_sample_rate,:] # Sub-sampling to increase OT processing\n",
    "M = ot.utils.dist0(B.shape[0]) # Ground Metric \n",
    "M /= M.max()  # Normalizing ground metric \n",
    "M*=1e+4 # Tuning ground metric for problem (hyper-param)\n",
    "\n",
    "bary_wass = ot.barycenter_unbalanced(B, M, reg=5e-4, reg_m=1e-1) # reg - Entropic Regularization \n",
    "\n",
    "cac_1d = np.repeat(bary_wass,10)"
   ]
  },
  {
   "cell_type": "code",
   "execution_count": null,
   "metadata": {},
   "outputs": [],
   "source": [
    "cac_list.shape"
   ]
  },
  {
   "cell_type": "code",
   "execution_count": null,
   "metadata": {},
   "outputs": [],
   "source": [
    "stream"
   ]
  },
  {
   "cell_type": "markdown",
   "metadata": {},
   "source": [
    "### streaming part - and OT pooling over modes - animation\n",
    "\n",
    "changes made to previous code that didn't OT barycentre pool at all:\n",
    "- obviously pool\n",
    "- subsampling by 10 has to also be accounted for - easiest way is to repeat the cac values 10 times"
   ]
  },
  {
   "cell_type": "code",
   "execution_count": null,
   "metadata": {},
   "outputs": [],
   "source": [
    "#streaming part \n",
    "\n",
    "\n",
    "windows = []\n",
    "\n",
    "regime_change_idxs = []\n",
    "for n_exp in [10,15,20]:\n",
    "    regime_change_idxs.append(n_exp*513)\n",
    "\n",
    "current_x_window = list(np.arange(513*5))\n",
    "\n",
    "\n",
    "new_data = building_seq.T[513*5:]\n",
    "\n",
    "for i, t in enumerate(new_data): \n",
    "    \n",
    "    #update the window of x values we are currently looking at CAC for\n",
    "    current_x_window = current_x_window[1:]\n",
    "    current_x_window.append(i+513*5)\n",
    "\n",
    "    cac_list = []\n",
    "\n",
    "    for mode in range(num_modes):\n",
    "        vmd_str = f'vmd{mode}'\n",
    "        stream[vmd_str].update(t[mode])\n",
    "        cac_list.append(stream[vmd_str].cac_1d_)\n",
    "    cac_list = np.array(cac_list)\n",
    "\n",
    "    if i % 100 == 0:\n",
    "        #note any indices of regime changes in this x values window\n",
    "        regime_changes_window_idxs = [0]\n",
    "        for change in regime_change_idxs:\n",
    "            if change in current_x_window:\n",
    "                regime_changes_window_idxs.append(current_x_window.index(change))\n",
    "                \n",
    "        #layer 1 pooling over modes\n",
    "        sub_sample_rate = 10 #for fast OT processing\n",
    "        A = cac_list.T\n",
    "        B = A[::sub_sample_rate,:] # Sub-sampling to increase OT processing\n",
    "        M = ot.utils.dist0(B.shape[0]) # Ground Metric \n",
    "        M /= M.max()  # Normalizing ground metric \n",
    "        M*=1e+4 # Tuning ground metric for problem (hyper-param)\n",
    "\n",
    "        bary_wass = ot.barycenter_unbalanced(B, M, reg=5e-4, reg_m=1e-1) # reg - Entropic Regularization \n",
    "\n",
    "        current_cac_1d = np.repeat(bary_wass,10)\n",
    "        \n",
    "        windows.append((stream['vmd1'].T_, current_cac_1d, regime_changes_window_idxs))\n",
    "\n",
    "\n",
    "fig, axs = plt.subplots(2, sharex=True, gridspec_kw={'hspace': 0})\n",
    "\n",
    "axs[0].set_xlim((0, len(current_x_window)))\n",
    "Y_MIN = np.min(building_seq[0])\n",
    "Y_MAX = np.max(building_seq[0])\n",
    "axs[0].set_ylim(Y_MIN, Y_MAX)\n",
    "axs[1].set_xlim((0, len(current_x_window)))\n",
    "axs[1].set_ylim((-0.1, 1.1))\n",
    "\n",
    "lines = []\n",
    "\n",
    "for ax in axs: #create empty structures for each frame\n",
    "    line, = ax.plot([], [], lw=2)\n",
    "    lines.append(line)\n",
    "    line, = ax.plot([],[], linewidth=2, color= 'red')\n",
    "    lines.append(line)\n",
    "line, = axs[1].plot([], [], lw=2) # create structure for orange curve\n",
    "lines.append(line)\n",
    "\n",
    "def init():\n",
    "    for line in lines:\n",
    "        line.set_data([], [])\n",
    "    return lines\n",
    "\n",
    "def animate(window):\n",
    "    data_out, cac_out, regime_changes = window\n",
    "#     for line, data in zip(lines, [data_out, regime_changes, cac_out, regime_changes, cac_1d]):\n",
    "#         line.set_data(np.arange(data.shape[0]), data)\n",
    "    lines[0].set_data(np.arange(data_out.shape[0]), data_out)\n",
    "    lines[2].set_data(np.arange(cac_out.shape[0]), cac_out)\n",
    "#     lines[4].set_data(np.arange(cac_1d.shape[0]), cac_1d)\n",
    "    rgm_change = max(regime_changes)\n",
    "    lines[1].set_data([rgm_change,rgm_change],[Y_MIN, Y_MAX])\n",
    "    lines[3].set_data([rgm_change,rgm_change],[-0.1, 1.1])\n",
    "    return lines\n",
    "\n",
    "anim = animation.FuncAnimation(fig, animate, init_func=init,\n",
    "                               frames=windows, interval=100,\n",
    "                               blit=True)\n",
    "\n",
    "anim_out = anim.to_jshtml()\n",
    "plt.close()  # Prevents duplicate image from displaying\n",
    "if os.path.exists(\"None0000000.png\"):\n",
    "    os.remove(\"None0000000.png\")  # Delete rogue temp file\n",
    "\n",
    "HTML(anim_out)\n",
    "\n"
   ]
  },
  {
   "cell_type": "markdown",
   "metadata": {},
   "source": [
    "# CAC investigation\n",
    "\n",
    "updated problems to find answers to\n",
    "\n",
    "- dip in first frame\n",
    "- overcorrection\n",
    "- false positive in vmd pool\n",
    "\n",
    "problems to find answers to\n",
    "\n",
    "- checking why there's a dip in the first frame which is basically the same size as the other regime dips.. this seems to be an issue with the CAC1d being wrong on our initial data independently of floss algo\n",
    "- false positive in vmd pooling\n",
    "- then there's the second false dip effect: due to FLOSS algo. this has been concluded from the first subsection below. There's a dip that moves along w the 5th test only in animation of floss. But this isn't always the case - on sines and random data the frames match stumpy.stump cac function .... honestly from some exploration of and comparisons of the 6th frame which should be flat but isn't - and recalling that this is a degenerate case where we have the same repeated ts over and over so there are nearest neighbours with 0 distance at multiple periods away - im gonna blame it on the floss algo doing something different with its matrix profile right index policy (when there are multiple contenders to choose from). this case is closed, this wouldn't happen IRL. it's just an exception that hasn't been dealt with. nothing to talk about with this is there?\n",
    "- finally somewhere - and i don't know what situations this extends to - there's some overcorrection going on, evidenced most obviously by the window size 513 (matrix profile right indices are then almost a straight line). for a smaller window size, the MP indices are a mix of diff straight lines.. of course, these were observed in degenerate cases where i had the same data strung together 10 times etc. so if stuff happens only in degen cases, lower priority. "
   ]
  },
  {
   "cell_type": "markdown",
   "metadata": {},
   "source": [
    "## investigating that first frame\n",
    "\n",
    "using the welch building seq"
   ]
  },
  {
   "cell_type": "code",
   "execution_count": 45,
   "metadata": {},
   "outputs": [],
   "source": [
    "m=100\n",
    "L=m\n",
    "old_data = building_seq[:513*5]\n",
    "mp = stumpy.stump(old_data, m=m)\n",
    "cac_1d = _cac(mp[:, 3], L, bidirectional=False, excl_factor=1)  # This is for demo purposes only. Use floss() below!\n"
   ]
  },
  {
   "cell_type": "code",
   "execution_count": 56,
   "metadata": {},
   "outputs": [
    {
     "data": {
      "text/plain": [
       "<matplotlib.lines.Line2D at 0x118c93760>"
      ]
     },
     "execution_count": 56,
     "metadata": {},
     "output_type": "execute_result"
    },
    {
     "data": {
      "image/png": "[encoded data removed]",
      "text/plain": [
       "<Figure size 432x288 with 1 Axes>"
      ]
     },
     "metadata": {
      "needs_background": "light"
     },
     "output_type": "display_data"
    }
   ],
   "source": [
    "plt.plot(old_data)\n",
    "plt.axvline(513,color='pink')\n",
    "plt.axvline(513*2,color='pink')\n",
    "plt.axvline(513*3,color='pink')\n",
    "plt.axvline(513*4,color='pink')"
   ]
  },
  {
   "cell_type": "code",
   "execution_count": 46,
   "metadata": {},
   "outputs": [
    {
     "data": {
      "text/plain": [
       "[<matplotlib.lines.Line2D at 0x126537190>]"
      ]
     },
     "execution_count": 46,
     "metadata": {},
     "output_type": "execute_result"
    },
    {
     "data": {
      "image/png": "[encoded data removed]",
      "text/plain": [
       "<Figure size 432x288 with 1 Axes>"
      ]
     },
     "metadata": {
      "needs_background": "light"
     },
     "output_type": "display_data"
    }
   ],
   "source": [
    "plt.plot(cac_1d)\n"
   ]
  },
  {
   "cell_type": "markdown",
   "metadata": {},
   "source": [
    "it is the initial window that's problematic. but is the window[0] frame reallly this? doesn't matter, it's similar."
   ]
  },
  {
   "cell_type": "code",
   "execution_count": 47,
   "metadata": {},
   "outputs": [
    {
     "data": {
      "text/plain": [
       "[<matplotlib.lines.Line2D at 0x125d37c40>]"
      ]
     },
     "execution_count": 47,
     "metadata": {},
     "output_type": "execute_result"
    },
    {
     "data": {
      "image/png": "[encoded data removed]",
      "text/plain": [
       "<Figure size 432x288 with 1 Axes>"
      ]
     },
     "metadata": {
      "needs_background": "light"
     },
     "output_type": "display_data"
    }
   ],
   "source": [
    "stream = stumpy.floss(mp, old_data, m=m, L=m, excl_factor=1)\n",
    "\n",
    "windows = []\n",
    "\n",
    "stream.update(building_seq[513*5])\n",
    "\n",
    "plt.plot(stream.cac_1d_)"
   ]
  },
  {
   "cell_type": "markdown",
   "metadata": {},
   "source": [
    "### check out the arc curve etc. overcorrection and all"
   ]
  },
  {
   "cell_type": "code",
   "execution_count": null,
   "metadata": {},
   "outputs": [],
   "source": [
    "plt.plot"
   ]
  },
  {
   "cell_type": "code",
   "execution_count": 53,
   "metadata": {},
   "outputs": [
    {
     "data": {
      "text/plain": [
       "<matplotlib.lines.Line2D at 0x125f19610>"
      ]
     },
     "execution_count": 53,
     "metadata": {},
     "output_type": "execute_result"
    },
    {
     "data": {
      "image/png": "[encoded data removed]",
      "text/plain": [
       "<Figure size 432x288 with 1 Axes>"
      ]
     },
     "metadata": {
      "needs_background": "light"
     },
     "output_type": "display_data"
    }
   ],
   "source": [
    "plt.plot(mp[:,3])\n",
    "plt.axhline(y=513,color='pink')\n",
    "x1=[0,2000]\n",
    "y1=[513,2513]\n",
    "plt.plot(x1,y1,'--',color='orange')\n",
    "x2=[0,1500]\n",
    "y2=[2*513,2*513+1500]\n",
    "plt.plot(x2,y2,'--',color='orange')\n",
    "x3=[0,1000]\n",
    "y3=[3*513,3*513+1000]\n",
    "plt.plot(x3,y3,'--',color='orange')\n",
    "x4=[0,2000]\n",
    "y4=[0,2000]\n",
    "# plt.plot(x4,y4,'--',color='orange')\n",
    "plt.axvline(513,color='paleturquoise')\n",
    "plt.axvline(513*2,color='paleturquoise')\n",
    "plt.axvline(513*3,color='paleturquoise')\n",
    "plt.axvline(513*4,color='paleturquoise')"
   ]
  },
  {
   "cell_type": "markdown",
   "metadata": {},
   "source": [
    "interesting that it still obeys this random linear structure even when i haven't degenerately strung together identical data. guess welch makes stuff look too similar in terms of nearest neighbours. curious to see the arc curve at a regime change.\n",
    "\n",
    "\n",
    "now the arc curve would be, "
   ]
  },
  {
   "cell_type": "code",
   "execution_count": 54,
   "metadata": {},
   "outputs": [
    {
     "data": {
      "text/plain": [
       "<matplotlib.lines.Line2D at 0x10574ab80>"
      ]
     },
     "execution_count": 54,
     "metadata": {},
     "output_type": "execute_result"
    },
    {
     "data": {
      "image/png": "[encoded data removed]",
      "text/plain": [
       "<Figure size 432x288 with 1 Axes>"
      ]
     },
     "metadata": {
      "needs_background": "light"
     },
     "output_type": "display_data"
    }
   ],
   "source": [
    "from stumpy.floss import _nnmark\n",
    "plt.plot(_nnmark(mp[:,3]))\n",
    "plt.axvline(513,color='paleturquoise')\n",
    "plt.axvline(513*2,color='paleturquoise')\n",
    "plt.axvline(513*3,color='paleturquoise')\n",
    "plt.axvline(513*4,color='paleturquoise')"
   ]
  },
  {
   "cell_type": "markdown",
   "metadata": {},
   "source": [
    "there's a flat plateau because nothing else points to that second test except the first test. if the idealised arc curve thing was more suited to our purposes, we could force the IAC to look like this. But we also know this structure is kind of arbitrary and artificial too. welch makes stuff look too alike. the e2e process is good on regime changes but too many false positives.\n",
    "\n",
    "the flat plateau compared to the IAC is why there's a false positive dip.\n",
    "\n",
    "solutions- most obvious - change the IAC. IAC for periodic data... OR\n",
    "\n",
    "change the mp policy of selecting nearest neighbours to be less arbitrary , problematic, and volatile when put through floss\n",
    "\n",
    "\n",
    "\n",
    "ok final notes\n",
    "\n",
    "yes this fixes many of the issues i was facing including in the degenerate cases\n",
    "\n",
    "our current e2e process in general has high TP rate but high FP rate due to this weird welchy stuff looking the same\n",
    "\n",
    "volatility in algo choosing matrix profile nn and also volatility due to welch and natural variation in tests \n",
    "\n",
    "\n",
    "\n",
    "\n",
    "also where did i write the stuff about do we even need OT barycentre avg - haven't we already reaped its benefits lol - anyway whatever the curve is smooth and nice\n",
    "\n"
   ]
  },
  {
   "cell_type": "code",
   "execution_count": 24,
   "metadata": {},
   "outputs": [],
   "source": [
    "for t in building_seq[513*5+1:513*12]:\n",
    "    stream.update(t)"
   ]
  },
  {
   "cell_type": "code",
   "execution_count": 25,
   "metadata": {},
   "outputs": [
    {
     "data": {
      "text/plain": [
       "[<matplotlib.lines.Line2D at 0x125f7dbe0>]"
      ]
     },
     "execution_count": 25,
     "metadata": {},
     "output_type": "execute_result"
    },
    {
     "data": {
      "image/png": "[encoded data removed]",
      "text/plain": [
       "<Figure size 432x288 with 1 Axes>"
      ]
     },
     "metadata": {
      "needs_background": "light"
     },
     "output_type": "display_data"
    }
   ],
   "source": [
    "plt.plot(stream.cac_1d_)"
   ]
  },
  {
   "cell_type": "code",
   "execution_count": 26,
   "metadata": {},
   "outputs": [],
   "source": [
    "first_reg_change = building_seq[513*7:513*12]\n",
    "mp = stumpy.stump(first_reg_change, m=m)\n",
    "cac_1d = _cac(mp[:, 3], L, bidirectional=False, excl_factor=1)  # This is for demo purposes only. Use floss() below!\n"
   ]
  },
  {
   "cell_type": "code",
   "execution_count": 35,
   "metadata": {},
   "outputs": [
    {
     "data": {
      "text/plain": [
       "<matplotlib.lines.Line2D at 0x118eb5b80>"
      ]
     },
     "execution_count": 35,
     "metadata": {},
     "output_type": "execute_result"
    },
    {
     "data": {
      "image/png": "[encoded data removed]",
      "text/plain": [
       "<Figure size 432x288 with 1 Axes>"
      ]
     },
     "metadata": {
      "needs_background": "light"
     },
     "output_type": "display_data"
    }
   ],
   "source": [
    "plt.plot(cac_1d)\n",
    "plt.axvline(x=513*3,color='red')\n",
    "plt.axvline(x=513*2,color='orange')"
   ]
  },
  {
   "cell_type": "markdown",
   "metadata": {},
   "source": [
    "ok great, in this non degenerate case where the trend is clear enough to overpower randomness in mp algo choice of nearest neighbour,  cac basically looks identical"
   ]
  },
  {
   "cell_type": "code",
   "execution_count": 36,
   "metadata": {},
   "outputs": [
    {
     "data": {
      "text/plain": [
       "<matplotlib.lines.Line2D at 0x107634790>"
      ]
     },
     "execution_count": 36,
     "metadata": {},
     "output_type": "execute_result"
    },
    {
     "data": {
      "image/png": "[encoded data removed]",
      "text/plain": [
       "<Figure size 432x288 with 1 Axes>"
      ]
     },
     "metadata": {
      "needs_background": "light"
     },
     "output_type": "display_data"
    }
   ],
   "source": [
    "plt.plot(_nnmark(mp[:,3]))\n",
    "plt.axvline(x=513*3,color='red')\n",
    "plt.axvline(x=513*2,color='orange')"
   ]
  },
  {
   "cell_type": "markdown",
   "metadata": {},
   "source": [
    "and awesome, definite dip compared to the IAC - the algo does what it's supposed to here. at TP's. still semi interesting but not a bad thing or a significant observation that some parts of this arc curve are linear."
   ]
  },
  {
   "cell_type": "code",
   "execution_count": 43,
   "metadata": {},
   "outputs": [
    {
     "data": {
      "text/plain": [
       "[<matplotlib.lines.Line2D at 0x124848880>]"
      ]
     },
     "execution_count": 43,
     "metadata": {},
     "output_type": "execute_result"
    },
    {
     "data": {
      "image/png": "[encoded data removed]",
      "text/plain": [
       "<Figure size 432x288 with 1 Axes>"
      ]
     },
     "metadata": {
      "needs_background": "light"
     },
     "output_type": "display_data"
    }
   ],
   "source": [
    "plt.plot(mp[:,3])\n",
    "plt.axvline(x=513*3,color='red')\n",
    "plt.axvline(x=513*2,color='orange')\n",
    "# plt.axvline(x=513*3-100,color='yellow')\n",
    "x1=[0,2000]\n",
    "y1=[513,2513]\n",
    "plt.plot(x1,y1,'--',color='orange')\n",
    "x2=[0,1500]\n",
    "y2=[2*513,2*513+1500]\n",
    "plt.plot(x2,y2,'--',color='orange')\n",
    "x3=[0,1000]\n",
    "y3=[3*513,3*513+1000]\n",
    "plt.plot(x3,y3,'--',color='orange')\n",
    "x4=[0,2000]\n",
    "y4=[0,2000]\n",
    "plt.plot(x4,y4,'--',color='orange')"
   ]
  },
  {
   "cell_type": "markdown",
   "metadata": {},
   "source": [
    "still thoroughly dislike the fact that this is full of straight lines, makes the entire algo feel way too volatile - prone to random changes in the mp algo's policy for choosing nearest neighs "
   ]
  },
  {
   "cell_type": "code",
   "execution_count": null,
   "metadata": {},
   "outputs": [],
   "source": [
    "mp[1500,3] "
   ]
  },
  {
   "cell_type": "markdown",
   "metadata": {},
   "source": [
    "uhhh well at least it makes sense schematically - i guess the important thing is that the region where the regime change occurs doesn't choose things that are an integer multiple of periods away. and this would still be the case if we took away all randomness in MP's decision to choose nearest neighbours. can we just update the source code, and use our own? does that mess things up? "
   ]
  },
  {
   "cell_type": "markdown",
   "metadata": {},
   "source": [
    "## next steps\n",
    "i think honestly the solution to everything in this cac section is to get rid of that randomness in MP's choice of nearest neighbours."
   ]
  },
  {
   "cell_type": "markdown",
   "metadata": {},
   "source": [
    "## replacing healthy data and see what the animation looks like\n",
    "\n",
    "create artificially definitely no regime change time series and check if we get a dip"
   ]
  },
  {
   "cell_type": "code",
   "execution_count": null,
   "metadata": {},
   "outputs": [],
   "source": [
    "############# WELCH ONLY SENSOR 1 ########################################################################\n",
    "\n",
    "num_experiments = 25 \n",
    "# Parameter for p-welch transform\n",
    "nperseg = df_list['Sensor1'].shape[1]//8\n",
    "\n",
    "# Total length of signal recording\n",
    "signal_length = 8192 # len(X_cols_time)\n",
    "\n",
    "\n",
    "building_features = dict()\n",
    "welch_list = []\n",
    "\n",
    "data_row = sens1_data.iloc[0,:]\n",
    "data_row_demeaned = data_row - np.mean(data_row) # Remove \"DC\" component (i.e. de-mean)\n",
    "\n",
    "pxx = welch(data_row_demeaned, fs=1600, nperseg=nperseg) # Returns len 2 tuple\n",
    "welch_list.append(np.log(pxx[1]/max(pxx[1]))) # Feature Engineering\n",
    "\n",
    "\n",
    "\n",
    "\n",
    "\n",
    "for i in range(10): #fake. i'm appending the first experiment 10 times.\n",
    "    experiment_str = f'Experiment{i+1}'\n",
    "\n",
    "    building_features[experiment_str] = np.array(welch_list)\n",
    "\n",
    "welch_list.clear()\n",
    "\n",
    "for i in range(10,num_experiments):\n",
    "    experiment_str = f'Experiment{i+1}'\n",
    "    data_row = sens1_data.iloc[i,:]\n",
    "    data_row_demeaned = data_row - np.mean(data_row) # Remove \"DC\" component (i.e. de-mean)\n",
    "    \n",
    "    pxx = welch(data_row_demeaned, fs=1600, nperseg=nperseg) # Returns len 2 tuple\n",
    "    welch_list.append(np.log(pxx[1]/max(pxx[1]))) # Feature Engineering\n",
    "    \n",
    "    building_features[experiment_str] = np.array(welch_list)\n",
    "\n",
    "    welch_list.clear()\n"
   ]
  },
  {
   "cell_type": "code",
   "execution_count": null,
   "metadata": {},
   "outputs": [],
   "source": [
    "building_seq = np.hstack([building_features[f'Experiment{i+1}'] for i in range(num_experiments)]).squeeze()"
   ]
  },
  {
   "cell_type": "code",
   "execution_count": null,
   "metadata": {},
   "outputs": [],
   "source": [
    "m = 100\n",
    "L = m \n",
    "\n",
    "building_seq = building_seq[:5130]\n",
    "old_data = building_seq[:513*5]\n",
    "new_data = building_seq[513*5:] # take the first 5 experiments. There are 25 experiments, with changes occuring in 10, 15, 20 \n",
    "mp = stumpy.stump(old_data, m=m)\n",
    "cac_1d = _cac(mp[:, 3], L, bidirectional=False, excl_factor=1)  # This is for demo purposes only. Use floss() below!\n",
    "stream = stumpy.floss(mp, old_data, m=m, L=L, excl_factor=1)\n",
    "\n",
    "windows = []\n",
    "\n",
    "regime_change_idxs = []\n",
    "for n_exp in [10,15,20]:\n",
    "    regime_change_idxs.append(n_exp*513)\n",
    "\n",
    "current_x_window = list(np.arange(513*5))\n",
    "\n",
    "for i, t in enumerate(new_data): \n",
    "    stream.update(t)\n",
    "    \n",
    "    #update the window of x values we are currently looking at CAC for\n",
    "    current_x_window = current_x_window[1:]\n",
    "    current_x_window.append(i+513*5)\n",
    "    \n",
    "    if i % 100 == 0:\n",
    "        #note any indices of regime changes in this x values window\n",
    "        regime_changes_window_idxs = [0]\n",
    "        for change in regime_change_idxs:\n",
    "            if change in current_x_window:\n",
    "                regime_changes_window_idxs.append(current_x_window.index(change))\n",
    "        windows.append((stream.T_, stream.cac_1d_, regime_changes_window_idxs))\n",
    "        \n",
    "#     if (i+1) % 513*5b == 0:\n",
    "\n",
    "\n",
    "fig, axs = plt.subplots(2, sharex=True, gridspec_kw={'hspace': 0})\n",
    "\n",
    "axs[0].set_xlim((0, mp.shape[0]))\n",
    "Y_MIN = min(np.min(old_data), np.min(new_data))\n",
    "Y_MAX = max(np.max(old_data), np.max(new_data))\n",
    "axs[0].set_ylim(Y_MIN, Y_MAX)\n",
    "axs[1].set_xlim((0, mp.shape[0]))\n",
    "axs[1].set_ylim((-0.1, 1.1))\n",
    "\n",
    "#legend here^ try\n",
    "\n",
    "lines = []\n",
    "\n",
    "for ax in axs: #create empty structures for each frame\n",
    "    line, = ax.plot([], [], lw=2)\n",
    "    lines.append(line)\n",
    "    line, = ax.plot([],[], linewidth=2, color= 'red')\n",
    "    lines.append(line)\n",
    "line, = axs[1].plot([], [], lw=2) # create structure for orange curve\n",
    "lines.append(line)\n",
    "\n",
    "def init():\n",
    "    for line in lines:\n",
    "        line.set_data([], [])\n",
    "    return lines\n",
    "\n",
    "def animate(window):\n",
    "    data_out, cac_out, regime_changes = window\n",
    "#     for line, data in zip(lines, [data_out, regime_changes, cac_out, regime_changes, cac_1d]):\n",
    "#         line.set_data(np.arange(data.shape[0]), data)\n",
    "    lines[0].set_data(np.arange(data_out.shape[0]), data_out)\n",
    "    lines[2].set_data(np.arange(cac_out.shape[0]), cac_out)\n",
    "#     lines[4].set_data(np.arange(cac_1d.shape[0]), cac_1d)\n",
    "    rgm_change = max(regime_changes)\n",
    "    lines[1].set_data([rgm_change,rgm_change],[Y_MIN, Y_MAX])\n",
    "    lines[3].set_data([rgm_change,rgm_change],[-0.1, 1.1])\n",
    "    return lines\n",
    "\n",
    "anim_fake_healthydata_welch = animation.FuncAnimation(fig, animate, init_func=init,\n",
    "                               frames=windows, interval=100,\n",
    "                               blit=True)\n",
    "\n",
    "anim_out = anim.to_jshtml()\n",
    "plt.close()  # Prevents duplicate image from displaying\n",
    "if os.path.exists(\"None0000000.png\"):\n",
    "    os.remove(\"None0000000.png\")  # Delete rogue temp file\n",
    "\n",
    "HTML(anim_out)\n",
    "\n",
    "\n"
   ]
  },
  {
   "cell_type": "code",
   "execution_count": null,
   "metadata": {},
   "outputs": [],
   "source": [
    "anim_out = anim_fake_healthydata_welch.to_jshtml()\n",
    "plt.close()  # Prevents duplicate image from displaying\n",
    "if os.path.exists(\"None0000000.png\"):\n",
    "    os.remove(\"None0000000.png\")  # Delete rogue temp file\n",
    "\n",
    "HTML(anim_out) # make this just healthy produce the error ### yep same thing"
   ]
  },
  {
   "cell_type": "code",
   "execution_count": null,
   "metadata": {},
   "outputs": [],
   "source": []
  },
  {
   "cell_type": "markdown",
   "metadata": {},
   "source": [
    "[i think herei was talking about window size 513, the constant dip in the middle which resembled the iac...] [right MP indices were basically the line y=x+513] proof of overcorrection for window size 513 and 10 repeated healthy tests"
   ]
  },
  {
   "cell_type": "code",
   "execution_count": null,
   "metadata": {},
   "outputs": [],
   "source": [
    "writergif = animation.PillowWriter(fps = 10)\n",
    "anim_fake_healthydata_welch.save('fake-healthytest1repeated-welchonly-window513-10fps.gif',writer=writergif)"
   ]
  },
  {
   "cell_type": "markdown",
   "metadata": {},
   "source": [
    "Observations\n",
    "\n",
    "- it dips at the fifth test of 10 identical tests, indicating some regime change there. definitely an artefact of the algorithm. \n",
    "- BUT, doesn't floss egress and ingress? so why is the 6th frame which is approximately (13 off) the first frame so different? CAC is initially like flat.\n",
    "- why does the dip move with the test?! read into the algo\n",
    "would it be hard to plot the histogram ? actually no that's hard.. i want to see the curves"
   ]
  },
  {
   "cell_type": "code",
   "execution_count": null,
   "metadata": {},
   "outputs": [],
   "source": [
    "#again testing the 6th frame to sus out what it looks like\n",
    "\n",
    "m=100\n",
    "tsframe = windows[5][0]\n",
    "mp = stumpy.stump(tsframe, m=m)\n",
    "cac_1d = _cac(mp[:, 3], L, bidirectional=False, excl_factor=1)\n",
    "plt.plot(cac_1d)"
   ]
  },
  {
   "cell_type": "code",
   "execution_count": null,
   "metadata": {},
   "outputs": [],
   "source": [
    "plt.plot(windows[5][1])"
   ]
  },
  {
   "cell_type": "code",
   "execution_count": null,
   "metadata": {},
   "outputs": [],
   "source": [
    "plt.plot(mp[:,3])"
   ]
  },
  {
   "cell_type": "markdown",
   "metadata": {},
   "source": [
    "### testing if the 6th frame cac really does look like that to sus out how this floss algo works\n",
    "\n",
    "this is window size 100"
   ]
  },
  {
   "cell_type": "code",
   "execution_count": null,
   "metadata": {},
   "outputs": [],
   "source": [
    "testdata = building_seq[500:500+513*5]\n",
    "mp = stumpy.stump(testdata, m=m)\n",
    "cac_1d = _cac(mp[:, 3], L, bidirectional=False, excl_factor=1)  # This is for demo purposes only. Use floss() below!\n",
    "# cac_2d = "
   ]
  },
  {
   "cell_type": "code",
   "execution_count": null,
   "metadata": {},
   "outputs": [],
   "source": [
    "plt.plot(cac_1d) #uh what "
   ]
  },
  {
   "cell_type": "code",
   "execution_count": null,
   "metadata": {},
   "outputs": [],
   "source": [
    "mp = stumpy.stump(old_data, m=m)\n",
    "cac_1d_initial = _cac(mp[:, 3], L, bidirectional=False, excl_factor=1)  # This is for demo purposes only. Use floss() below!\n",
    "plt.plot(cac_1d_initial)"
   ]
  },
  {
   "cell_type": "markdown",
   "metadata": {},
   "source": [
    "why are the non-floss-cac plots so wildly different to the animation (aside from the initial frame)\n",
    "\n",
    "the initial one isn't  different - location of dips is same, relative magnitude of dips are same"
   ]
  },
  {
   "cell_type": "markdown",
   "metadata": {},
   "source": [
    "can at least confirm that floss does something with the old data instead of recalculating from scratch every time because this does not match the fifth frame. hence the dip we observe in the animation is an artefact of FLOSS algo. This doesn't always happen though \n",
    "\n",
    "\n",
    "i think the following stuff is re the initial frame but doesn't matter, flat cac curve "
   ]
  },
  {
   "cell_type": "code",
   "execution_count": null,
   "metadata": {},
   "outputs": [],
   "source": [
    "from stumpy.floss import _nnmark\n",
    "ac = _nnmark(mp[:,3])"
   ]
  },
  {
   "cell_type": "code",
   "execution_count": null,
   "metadata": {},
   "outputs": [],
   "source": [
    "plt.plot(ac) #this is the arc curve. consistent with the fact that the cac is basically flat for this frame "
   ]
  },
  {
   "cell_type": "code",
   "execution_count": null,
   "metadata": {},
   "outputs": [],
   "source": [
    "plt.plot(mp[:,3])"
   ]
  },
  {
   "cell_type": "code",
   "execution_count": null,
   "metadata": {},
   "outputs": [],
   "source": [
    "print(mp[0:11,3])\n",
    "print(mp[100:110,3]-np.arange(100,110,1)) \n",
    "print('points to 4 periods over around index 100')\n",
    "print(mp[500:510,3]-np.arange(500,510,1))\n",
    "print(mp[700:710,3]-np.arange(700,710,1))\n",
    "print('points to 3 periods over around index 100')\n",
    "print(mp[1200:1250,3]-np.arange(1200,1250,1))\n",
    "print('points to 2 periods over around index 1200 but in an unstable way sometimes dropping back to 1 period - in fact theyre all unstable hence the messiness in lines')\n",
    "print(513)\n",
    "print(2*513)\n",
    "print(3*513)\n",
    "print(4*513)\n",
    "print(5*513)"
   ]
  },
  {
   "cell_type": "markdown",
   "metadata": {},
   "source": [
    "again, what the heck is the MP policy for pointing to nearest neighbours when there are multiple contenders?"
   ]
  },
  {
   "cell_type": "markdown",
   "metadata": {},
   "source": [
    "either way it's still a flat cac: "
   ]
  },
  {
   "cell_type": "code",
   "execution_count": null,
   "metadata": {},
   "outputs": [],
   "source": [
    "plt.plot(_cac(mp[:, 3], L, bidirectional=False, excl_factor=1))"
   ]
  },
  {
   "cell_type": "markdown",
   "metadata": {},
   "source": [
    "figure out why the fifth frame in floss differs bc it really should not\n",
    "\n",
    "\n",
    "14th frame of 10x repeat healthy test: you can start to see the form on the left of the IAC overcorrection"
   ]
  },
  {
   "cell_type": "code",
   "execution_count": null,
   "metadata": {},
   "outputs": [],
   "source": [
    "testdata = building_seq[1400:1400+513*5]\n",
    "mp = stumpy.stump(testdata, m=m)\n",
    "plt.plot(_cac(mp[:, 3], L, bidirectional=False, excl_factor=1))"
   ]
  },
  {
   "cell_type": "code",
   "execution_count": null,
   "metadata": {},
   "outputs": [],
   "source": [
    "plt.plot(windows[14][1])\n",
    "#again, different to when you straight up cac the 14th frame wtf is floss doing? maybe let's not focus on these degenerate cases"
   ]
  },
  {
   "cell_type": "code",
   "execution_count": null,
   "metadata": {},
   "outputs": [],
   "source": [
    "plt.plot(windows[14][0])"
   ]
  },
  {
   "cell_type": "markdown",
   "metadata": {},
   "source": [
    "### replacing healthy data now not with repeated tests but rdm numbers\n",
    "\n",
    "straight up randomly generated numbers in about the same range as the rest of the ts"
   ]
  },
  {
   "cell_type": "code",
   "execution_count": null,
   "metadata": {},
   "outputs": [],
   "source": [
    "rdm_healthy = np.random.rand(513*10)\n",
    "rdm_healthy"
   ]
  },
  {
   "cell_type": "code",
   "execution_count": null,
   "metadata": {},
   "outputs": [],
   "source": [
    "rdm_healthy = rdm_healthy*-18"
   ]
  },
  {
   "cell_type": "code",
   "execution_count": null,
   "metadata": {},
   "outputs": [],
   "source": [
    "rdm_healthy_ts = np.concatenate((rdm_healthy, building_seq[5130:]))"
   ]
  },
  {
   "cell_type": "code",
   "execution_count": null,
   "metadata": {},
   "outputs": [],
   "source": [
    "plt.plot(rdm_healthy_ts)"
   ]
  },
  {
   "cell_type": "code",
   "execution_count": null,
   "metadata": {},
   "outputs": [],
   "source": [
    "regime_change_idxs = []\n",
    "for n_exp in [10,15,20]:\n",
    "    regime_change_idxs.append(n_exp*513)\n",
    "    \n",
    "start_list_size = 513*5\n",
    "\n",
    "m = 100\n",
    "L = m \n",
    "\n",
    "anim_rdm_healthy = scripts.animate_regime_change_from_scratch(rdm_healthy_ts, regime_change_idxs, start_list_size, m, L)"
   ]
  },
  {
   "cell_type": "code",
   "execution_count": null,
   "metadata": {},
   "outputs": [],
   "source": [
    "anim_out = anim_rdm_healthy.to_jshtml()\n",
    "plt.close()  # Prevents duplicate image from displaying\n",
    "if os.path.exists(\"None0000000.png\"):\n",
    "    os.remove(\"None0000000.png\")  # Delete rogue temp file\n",
    "\n",
    "HTML(anim_out)"
   ]
  },
  {
   "cell_type": "code",
   "execution_count": null,
   "metadata": {},
   "outputs": [],
   "source": [
    "writergif = animation.PillowWriter(fps = 10)\n",
    "anim_rdm_healthy.save('rdmdata-replace-healthy-welchonly-10fps.gif',writer=writergif)\n",
    "            "
   ]
  },
  {
   "cell_type": "markdown",
   "metadata": {},
   "source": [
    "## controlled simulation to understand CAC FLOSS behaviour\n",
    "\n",
    "conclusions from this section\n",
    "- CAC is location independent\n",
    "\n",
    "\n",
    "using a time series we understand: normal, then shift it up "
   ]
  },
  {
   "cell_type": "code",
   "execution_count": null,
   "metadata": {},
   "outputs": [],
   "source": [
    "rand_a = np.random.rand(3000)\n",
    "rand_b = np.random.rand(3000)+np.ones(3000)"
   ]
  },
  {
   "cell_type": "code",
   "execution_count": null,
   "metadata": {},
   "outputs": [],
   "source": [
    "rand_step = np.concatenate((rand_a,rand_b))\n",
    "plt.plot(rand_step)"
   ]
  },
  {
   "cell_type": "code",
   "execution_count": null,
   "metadata": {},
   "outputs": [],
   "source": [
    "anim_rdm_step = scripts.animate_regime_change_from_scratch(rand_step, [], 1500, m, L)"
   ]
  },
  {
   "cell_type": "code",
   "execution_count": null,
   "metadata": {},
   "outputs": [],
   "source": [
    "anim_out = anim_rdm_step.to_jshtml()\n",
    "plt.close()  # Prevents duplicate image from displaying\n",
    "if os.path.exists(\"None0000000.png\"):\n",
    "    os.remove(\"None0000000.png\")  # Delete rogue temp file\n",
    "\n",
    "HTML(anim_out)"
   ]
  },
  {
   "cell_type": "code",
   "execution_count": null,
   "metadata": {},
   "outputs": [],
   "source": [
    "writergif = animation.PillowWriter(fps = 10)\n",
    "anim_rdm_step.save('rdmdata-stepinmean-10fps.gif',writer=writergif)\n",
    "    "
   ]
  },
  {
   "cell_type": "code",
   "execution_count": null,
   "metadata": {},
   "outputs": [],
   "source": [
    "# mp = stumpy.stump(rand_step[2300:3700], m=m)\n",
    "# cac_1d = _cac(mp[:, 3], L, bidirectional=False, excl_factor=1)  # This is for demo purposes only. Use floss() below!\n",
    "plt.plot(cac_1d)\n",
    "plt.axvline(700,color='red')"
   ]
  },
  {
   "cell_type": "code",
   "execution_count": null,
   "metadata": {},
   "outputs": [],
   "source": [
    "plt.plot(rand_step[2300:3700])"
   ]
  },
  {
   "cell_type": "code",
   "execution_count": null,
   "metadata": {},
   "outputs": [],
   "source": [
    "plt.plot(mp[:,3])"
   ]
  },
  {
   "cell_type": "markdown",
   "metadata": {},
   "source": [
    "this proves that CAC is location independent.. i suppose MP does some sort of normalisation -- that's fine for our purposes "
   ]
  },
  {
   "cell_type": "code",
   "execution_count": null,
   "metadata": {},
   "outputs": [],
   "source": [
    "rand_a = np.sin(np.linspace(0,60*np.pi,2000))\n",
    "rand_b = np.sin(np.linspace(0,24*np.pi,2000))\n",
    "ts_sines = np.concatenate((rand_a,rand_b))\n",
    "plt.plot(ts_sines)"
   ]
  },
  {
   "cell_type": "code",
   "execution_count": null,
   "metadata": {},
   "outputs": [],
   "source": [
    "# mp = stumpy.stump(ts_sines, m=m)\n",
    "# cac_1d = _cac(mp[:, 3], L, bidirectional=False, excl_factor=1)  # This is for demo purposes only. Use floss() below!\n",
    "plt.plot(cac_1d)\n",
    "plt.axvline(2000,color='red')"
   ]
  },
  {
   "cell_type": "code",
   "execution_count": null,
   "metadata": {},
   "outputs": [],
   "source": [
    "anim_sines = scripts.animate_regime_change_from_scratch(ts_sines, [2000], 1200, m, L)"
   ]
  },
  {
   "cell_type": "code",
   "execution_count": null,
   "metadata": {},
   "outputs": [],
   "source": [
    "# writergif = animation.PillowWriter(fps = 10)\n",
    "# anim.save('fake-healthytest1repeated-welchonly-10fps.gif',writer=writergif)\n",
    "\n",
    "anim_out = anim_sines.to_jshtml()\n",
    "plt.close()  # Prevents duplicate image from displaying\n",
    "if os.path.exists(\"None0000000.png\"):\n",
    "    os.remove(\"None0000000.png\")  # Delete rogue temp file\n",
    "HTML(anim_out)"
   ]
  },
  {
   "cell_type": "code",
   "execution_count": null,
   "metadata": {},
   "outputs": [],
   "source": [
    "mp = stumpy.stump(ts_sines[1400:2600], m=m)\n",
    "cac_1d = _cac(mp[:, 3], L, bidirectional=False, excl_factor=1)  # This is for demo purposes only. Use floss() below!\n",
    "plt.plot(cac_1d)\n",
    "plt.axvline(600,color='red')\n"
   ]
  },
  {
   "cell_type": "markdown",
   "metadata": {},
   "source": [
    "This is the output we expected. ie same as the 15th frame in the animation. Inconsistent with above analysis of bookshelf data where it looked like one of the frames (where the fifth identical test had a dip but shouldn't have in theory) had different CAC to stumpy.stump. need to check code"
   ]
  },
  {
   "cell_type": "code",
   "execution_count": null,
   "metadata": {},
   "outputs": [],
   "source": []
  },
  {
   "cell_type": "markdown",
   "metadata": {},
   "source": [
    "# probability stuff\n",
    "\n",
    "welch processing for sensor 1 only\n",
    "\n",
    "really rough ideas to just explore for now\n",
    "\n",
    "also explore the problems in goodnotes... \n",
    "\n",
    "- derive a null distribution from apriori 'labelled' data: no regime change data\n",
    "    - but which type of data to use? which regime?\n",
    "- get the one sided p value for every point in test data\n",
    "- somehow use this to derive some kind of confidence interval\n",
    "- somehow use this to visually, perhaps using bars related to some confidence interval, or shading, indicate probabilistic locations... idk"
   ]
  },
  {
   "cell_type": "code",
   "execution_count": null,
   "metadata": {},
   "outputs": [],
   "source": [
    "############# WELCH ONLY SENSOR 1 ########################################################################\n",
    "\n",
    "num_experiments = 25 \n",
    "# Parameter for p-welch transform\n",
    "nperseg = df_list['Sensor1'].shape[1]//8\n",
    "\n",
    "# Total length of signal recording\n",
    "signal_length = 8192 # len(X_cols_time)\n",
    "\n",
    "\n",
    "building_features = dict()\n",
    "welch_list = []\n",
    "\n",
    "for i in range(num_experiments):\n",
    "    experiment_str = f'Experiment{i+1}'\n",
    "    data_row = sens1_data.iloc[i,:]\n",
    "    data_row_demeaned = data_row - np.mean(data_row) # Remove \"DC\" component (i.e. de-mean)\n",
    "    \n",
    "    pxx = welch(data_row_demeaned, fs=1600, nperseg=nperseg) # Returns len 2 tuple\n",
    "    welch_list.append(np.log(pxx[1]/max(pxx[1]))) # Feature Engineering\n",
    "    \n",
    "    building_features[experiment_str] = np.array(welch_list)\n",
    "\n",
    "    welch_list.clear()\n"
   ]
  },
  {
   "cell_type": "code",
   "execution_count": null,
   "metadata": {},
   "outputs": [],
   "source": [
    "building_seq = np.hstack([building_features[f'Experiment{i+1}'] for i in range(num_experiments)]).squeeze()"
   ]
  },
  {
   "cell_type": "code",
   "execution_count": null,
   "metadata": {},
   "outputs": [],
   "source": []
  },
  {
   "cell_type": "markdown",
   "metadata": {},
   "source": [
    "### Animation Code with regime change pt vert lines\n",
    "\n",
    "\n",
    "tony"
   ]
  },
  {
   "cell_type": "code",
   "execution_count": null,
   "metadata": {},
   "outputs": [],
   "source": [
    "m = 100\n",
    "L = m \n",
    "\n",
    "old_data = building_seq[:513*5]\n",
    "new_data = building_seq[513*5:] # take the first 5 experiments. There are 25 experiments, with changes occuring in 10, 15, 20 \n",
    "mp = stumpy.stump(old_data, m=m)\n",
    "cac_1d = _cac(mp[:, 3], L, bidirectional=False, excl_factor=1)  # This is for demo purposes only. Use floss() below!\n",
    "stream = stumpy.floss(mp, old_data, m=m, L=L, excl_factor=1)\n",
    "\n",
    "windows = []\n",
    "\n",
    "regime_change_idxs = []\n",
    "for n_exp in [10,15,20]:\n",
    "    regime_change_idxs.append(n_exp*513)\n",
    "\n",
    "current_x_window = list(np.arange(513*5))\n",
    "\n",
    "for i in range(128): \n",
    "   \n",
    "    \n",
    "    #update the window of x values we are currently looking at CAC for\n",
    "    current_x_window = current_x_window[100:]\n",
    "    current_x_window.append(i*100+513*5)\n",
    "\n",
    "        #note any indices of regime changes in this x values window\n",
    "    regime_changes_window_idxs = [0]\n",
    "    for change in regime_change_idxs:\n",
    "        if change in current_x_window:\n",
    "            regime_changes_window_idxs.append(current_x_window.index(change))\n",
    "    windows.append(([1]*513*5, window[0], regime_changes_window_idxs))\n",
    "\n",
    "\n",
    "fig, axs = plt.subplots(2, sharex=True, gridspec_kw={'hspace': 0})\n",
    "\n",
    "axs[0].set_xlim((0, mp.shape[0]))\n",
    "Y_MIN = min(np.min(old_data), np.min(new_data))\n",
    "Y_MAX = max(np.max(old_data), np.max(new_data))\n",
    "axs[0].set_ylim(Y_MIN, Y_MAX)\n",
    "axs[1].set_xlim((0, mp.shape[0]))\n",
    "axs[1].set_ylim((-0.1, 1.1))\n",
    "\n",
    "#legend here^ try\n",
    "\n",
    "lines = []\n",
    "\n",
    "for ax in axs: #create empty structures for each frame\n",
    "    line, = ax.plot([], [], lw=2)\n",
    "    lines.append(line)\n",
    "    line, = ax.plot([],[], linewidth=2, color= 'red')\n",
    "    lines.append(line)\n",
    "line, = axs[1].plot([], [], lw=2) # create structure for orange curve\n",
    "lines.append(line)\n",
    "\n",
    "def init():\n",
    "    for line in lines:\n",
    "        line.set_data([], [])\n",
    "    return lines\n",
    "\n",
    "def animate(window):\n",
    "    data_out, cac_out, regime_changes = window\n",
    "#     for line, data in zip(lines, [data_out, regime_changes, cac_out, regime_changes, cac_1d]):\n",
    "#         line.set_data(np.arange(data.shape[0]), data)\n",
    "    lines[0].set_data(np.arange(data_out.shape[0]), data_out)\n",
    "    lines[2].set_data(np.arange(cac_out.shape[0]), cac_out)\n",
    "#     lines[4].set_data(np.arange(cac_1d.shape[0]), cac_1d)\n",
    "    rgm_change = max(regime_changes)\n",
    "    lines[1].set_data([rgm_change,rgm_change],[Y_MIN, Y_MAX])\n",
    "    lines[3].set_data([rgm_change,rgm_change],[-0.1, 1.1])\n",
    "    return lines\n",
    "\n",
    "anim = animation.FuncAnimation(fig, animate, init_func=init,\n",
    "                               frames=windows, interval=100,\n",
    "                               blit=True)\n",
    "\n",
    "anim_out = anim.to_jshtml()\n",
    "plt.close()  # Prevents duplicate image from displaying\n",
    "if os.path.exists(\"None0000000.png\"):\n",
    "    os.remove(\"None0000000.png\")  # Delete rogue temp file\n",
    "\n",
    "HTML(anim_out)\n",
    "\n",
    "\n"
   ]
  },
  {
   "cell_type": "code",
   "execution_count": null,
   "metadata": {},
   "outputs": [],
   "source": []
  },
  {
   "cell_type": "code",
   "execution_count": null,
   "metadata": {},
   "outputs": [],
   "source": [
    "writergif = animation.PillowWriter(fps = 10)\n",
    "anim.save('welch-cac-10fps.gif',writer=writergif)\n",
    "\n",
    "#add legend etc\n",
    "\n",
    "#separate the notebook more so you can just run through it for each diff process"
   ]
  },
  {
   "cell_type": "markdown",
   "metadata": {},
   "source": [
    "# Random things not needed anymore but keeping just in case"
   ]
  },
  {
   "cell_type": "markdown",
   "metadata": {},
   "source": [
    "## Animation Code without vertical lines for regime change points\n",
    "works for welch only and vmd mode 1 -> welch. \n",
    "\n",
    "basically no OT pooling\n"
   ]
  },
  {
   "cell_type": "code",
   "execution_count": null,
   "metadata": {},
   "outputs": [],
   "source": [
    "# m = 100\n",
    "# L = m \n",
    "\n",
    "# old_data = building_seq[:513*5]\n",
    "# new_data = building_seq[513*5:] # take the first 5 experiments. There are 25 experiments, with changes occuring in 10, 15, 20 \n",
    "# mp = stumpy.stump(old_data, m=m)\n",
    "# cac_1d = _cac(mp[:, 3], L, bidirectional=False, excl_factor=1)  # This is for demo purposes only. Use floss() below!\n",
    "# stream = stumpy.floss(mp, old_data, m=m, L=L, excl_factor=1)\n",
    "\n",
    "# windows = []\n",
    "\n",
    "# for i, t in enumerate(new_data): \n",
    "#     stream.update(t)\n",
    "    \n",
    "#     if i % 100 == 0:\n",
    "#         windows.append((stream.T_, stream.cac_1d_))\n",
    "\n",
    "\n",
    "# fig, axs = plt.subplots(2, sharex=True, gridspec_kw={'hspace': 0})\n",
    "\n",
    "# axs[0].set_xlim((0, mp.shape[0]))\n",
    "# axs[0].set_ylim((min(np.min(old_data), np.min(new_data)), max(np.max(old_data), np.max(new_data))))\n",
    "# axs[1].set_xlim((0, mp.shape[0]))\n",
    "# axs[1].set_ylim((-0.1, 1.1))\n",
    "\n",
    "# lines = []\n",
    "\n",
    "# for ax in axs:\n",
    "#     line, = ax.plot([], [], lw=2)\n",
    "#     lines.append(line)\n",
    "# line, = axs[1].plot([], [], lw=2)\n",
    "# lines.append(line)\n",
    "\n",
    "# def init():\n",
    "#     for line in lines:\n",
    "#         line.set_data([], [])\n",
    "#     return lines\n",
    "\n",
    "# def animate(window):\n",
    "#     data_out, cac_out = window\n",
    "#     for line, data in zip(lines, [data_out, cac_out, cac_1d]):\n",
    "#         line.set_data(np.arange(data.shape[0]), data)\n",
    "#     return lines\n",
    "\n",
    "# anim = animation.FuncAnimation(fig, animate, init_func=init,\n",
    "#                                frames=windows, interval=100,\n",
    "#                                blit=True)\n",
    "\n",
    "# anim_out = anim.to_jshtml()\n",
    "# plt.close()  # Prevents duplicate image from displaying\n",
    "# if os.path.exists(\"None0000000.png\"):\n",
    "#     os.remove(\"None0000000.png\")  # Delete rogue temp file\n",
    "\n",
    "# HTML(anim_out)"
   ]
  },
  {
   "cell_type": "code",
   "execution_count": null,
   "metadata": {},
   "outputs": [],
   "source": [
    "# l,=plt.plot([],[], linewidth=2, color= 'red')\n",
    "# l.set_data([1,1],[-1,1])\n",
    "\n",
    "plt.plot([1,1],[-1,1], linewidth=2, color= 'red') #i didn't need any axvline functionality in the end and could follow existing working structure"
   ]
  },
  {
   "cell_type": "markdown",
   "metadata": {},
   "source": [
    "## progress so far\n",
    "\n",
    "bit by bit to get it closer to e2e make sure it works\n",
    "\n",
    "- welch only on sensor 1 data WORKS\n",
    "- vmd mode 1 -> welch WORKS\n",
    "- vmd -> welch pool over modes (layer 1 pooling) WORKS\n",
    "- \n",
    "\n",
    "## comments from meetings"
   ]
  },
  {
   "cell_type": "code",
   "execution_count": null,
   "metadata": {},
   "outputs": [],
   "source": [
    "# 25/01\n",
    "\n",
    "# why CAC initial lines up with peaks later\n",
    "# why even is there a dip at the start - is it the correction - is there an upper bound on how the signal can look based on the windowsize of the stream\n",
    "# play around with pooling layer 1,2 - try tuning hyperparameters\n",
    "# use apriori knowledge to set initial CAC to 0 (we start with healthy data no regime change)\n",
    "# probabilistic - after cac curves come in when does an engineer act rel a ground truth? hypothesis test\n",
    "# quantify counterfactual change or underlying evidence - project the healthy data forward and see what that looks like and compare that to what happened\n",
    "# that's a later problem do corner cases break down the algo etc etc\n",
    "\n",
    "\n",
    "# sensor - dies, malicious attack, .. keep the system running - artificially kill one of the sensors or make it wrong 0 or NaN\n",
    "# ^ trivial cases\n",
    "# on sensor level use other anomaly detection methods to determine whether this sensor should be combined\n",
    "# needs to be done on a correlational level - if it is remaining healthy whereas other sensors pick up damage - is this a fault or truth\n",
    "# prewindowing - perhaps even weight it lower in the OT barycentre if there's a probability ... based on how its nearest neighbour reacting\n",
    "    # but this is very application specific\n",
    "    # is this sensor displayig a regime change or is it noise or a fault in the sensor - see nearest neighs\n",
    "\n",
    "\n",
    "# the wass barycentre thing - could just get approximate updates to leverage existing work\n",
    "    # Like weight prev barycentre by num sensors and new data by numsensors and avg those\n",
    "    \n",
    "# why does the avg look sim to the OT barycentre - maybe welch but there are heaps of other possibilities\n",
    "    # just check it out and see what happens, reverse engineer it. maybe welch mabe not\n",
    "    \n",
    "\n",
    "    # do we even need OT together with welch does it become redundant\n",
    "    # can we demonstrate advantages of each - no welch: show that naive avg is catastrophic\n",
    "    # welch: maybe efficient to just use euclidean average\n",
    "    # leap from theory to practice\n",
    "    \n",
    "    \n",
    "    \n",
    "# bridge data will be greatttt to do this on\n",
    "# https://bwk.kuleuven.be/bwm/z24\n"
   ]
  }
 ],
 "metadata": {
  "interpreter": {
   "hash": "1ca9cba2bd0fd8af955a9d1453792a4cdaf06581b11717e5924d48dc92a46b40"
  },
  "kernelspec": {
   "display_name": "Python 3 (ipykernel)",
   "language": "python",
   "name": "python3"
  },
  "language_info": {
   "codemirror_mode": {
    "name": "ipython",
    "version": 3
   },
   "file_extension": ".py",
   "mimetype": "text/x-python",
   "name": "python",
   "nbconvert_exporter": "python",
   "pygments_lexer": "ipython3",
   "version": "3.9.7"
  }
 },
 "nbformat": 4,
 "nbformat_minor": 2
}
